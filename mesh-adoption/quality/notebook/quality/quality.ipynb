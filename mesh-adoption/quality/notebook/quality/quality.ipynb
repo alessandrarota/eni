{
 "cells": [
  {
   "cell_type": "code",
   "execution_count": 2,
   "id": "fc7a0498-8112-4b77-899e-0feae61cd415",
   "metadata": {},
   "outputs": [],
   "source": [
    "import os\n",
    "os.environ[\"ENV\"] = \"sd\"\n",
    "os.environ[\"DATA_PRODUCT_NAME\"] = \"sapNac\""
   ]
  },
  {
   "cell_type": "code",
   "execution_count": 3,
   "id": "6a477b4b-2221-451f-b67d-57a9c12fecdd",
   "metadata": {},
   "outputs": [],
   "source": [
    "# imports. DO NOT REMOVE!\n",
    "from qualitysidecar import qualitysidecar_gx\n",
    "from qualitysidecar import qualitysidecar_otlp"
   ]
  },
  {
   "cell_type": "code",
   "execution_count": 4,
   "id": "6a150f15-4437-400d-89bb-b337f96746e1",
   "metadata": {
    "scrolled": true
   },
   "outputs": [
    {
     "name": "stderr",
     "output_type": "stream",
     "text": [
      "2025-02-24 17:40:55,621 - INFO - Reading the JSON configuration file...\n",
      "2025-02-24 17:40:55,650 - INFO - Configuring Expectations and running Validations...\n",
      "2025-02-24 17:40:55,654 - INFO - Created temporary directory '/tmp/tmpnfzqh1eg' for ephemeral docs site\n",
      "2025-02-24 17:40:55,683 - INFO - Created new connector for ('CSV', 'dit_dicox_dpflab_dds2_dev', 'ddsdltdb.segnogiornalieroquartoorario')\n",
      "2025-02-24 17:40:55,684 - INFO - Expectation instance created: id=None meta={'check_name': 'sapNac-dit_dicox_dpflab_dds2_dev-ddsdltdb.segnogiornalieroquartoorario-PK-ExpectColumnValuesToNotBeNull', 'data_product_name': 'sapNac'} notes=None result_format=<ResultFormat.BASIC: 'BASIC'> description=None catch_exceptions=True rendered_content=None windows=None batch_id=None column='PK' mostly=1 row_condition=None condition_parser=None\n",
      "Calculating Metrics: 100%|██████████| 8/8 [00:00<00:00, 145.47it/s] \n",
      "2025-02-24 17:40:55,845 - INFO - Reusing connector for ('CSV', 'dit_dicox_dpflab_dds2_dev', 'ddsdltdb.segnogiornalieroquartoorario')\n",
      "2025-02-24 17:40:55,846 - INFO - Expectation instance created: id=None meta={'check_name': 'sapNac-dit_dicox_dpflab_dds2_dev-ddsdltdb.segnogiornalieroquartoorario-Macrozona-ExpectColumnValuesToBeInSet', 'data_product_name': 'sapNac'} notes=None result_format=<ResultFormat.BASIC: 'BASIC'> description=None catch_exceptions=True rendered_content=None windows=None batch_id=None column='Macrozona' mostly=1 row_condition=None condition_parser=None value_set=['NORD', 'SUD']\n",
      "Calculating Metrics: 100%|██████████| 10/10 [00:00<00:00, 263.15it/s]\n",
      "2025-02-24 17:40:55,976 - INFO - Reusing connector for ('CSV', 'dit_dicox_dpflab_dds2_dev', 'ddsdltdb.segnogiornalieroquartoorario')\n",
      "2025-02-24 17:40:55,977 - INFO - Expectation instance created: id=None meta={'check_name': 'sapNac-dit_dicox_dpflab_dds2_dev.ddsdltdb.segnogiornalieroquartoorario-ScambiMWh-ExpectColumnValuesToBeBetween', 'data_product_name': 'sapNac'} notes=None result_format=<ResultFormat.BASIC: 'BASIC'> description=None catch_exceptions=True rendered_content=None windows=None batch_id=None column='Scambi[MWh]' mostly=1 row_condition=None condition_parser=None min_value=-930.0 max_value=800.0 strict_min=False strict_max=False\n",
      "Calculating Metrics: 100%|██████████| 10/10 [00:00<00:00, 169.32it/s]\n",
      "2025-02-24 17:40:56,104 - INFO - Reusing connector for ('CSV', 'dit_dicox_dpflab_dds2_dev', 'ddsdltdb.segnogiornalieroquartoorario')\n",
      "2025-02-24 17:40:56,105 - INFO - Expectation instance created: id=None meta={'check_name': 'sapNac-dit_dicox_dpflab_dds2_dev.ddsdltdb.segnogiornalieroquartoorario-DataDiRiferimento-ExpectColumnValuesToMatchRegex', 'data_product_name': 'sapNac'} notes=None result_format=<ResultFormat.BASIC: 'BASIC'> description=None catch_exceptions=True rendered_content=None windows=None batch_id=None column='DataDiRiferimento' mostly=1 row_condition=None condition_parser=None regex='^\\\\d{2}/\\\\d{2}/\\\\d{4}$'\n",
      "Calculating Metrics: 100%|██████████| 10/10 [00:00<00:00, 235.12it/s]\n",
      "2025-02-24 17:40:56,241 - INFO - Created new connector for ('CSV', 'dit_dicox_dpflab_dds2_dev', 'ddsdltdb.prezzigiornalieriquartoorari')\n",
      "2025-02-24 17:40:56,242 - INFO - Expectation instance created: id=None meta={'check_name': 'sapNac-PrezzoSbilanciamento-PrezzoBase-ExpectColumnPairValuesAToBeGreaterThanB', 'data_product_name': 'sapNac'} notes=None result_format=<ResultFormat.BASIC: 'BASIC'> description=None catch_exceptions=True rendered_content=None windows=None batch_id=None column_A='PrezzoSbilanciamento' column_B='PrezzoBase' mostly=1 row_condition=None condition_parser=None or_equal=True ignore_row_if='both_values_are_missing'\n",
      "Calculating Metrics: 100%|██████████| 9/9 [00:00<00:00, 116.98it/s]\n",
      "2025-02-24 17:40:56,470 - INFO - Reusing connector for ('CSV', 'dit_dicox_dpflab_dds2_dev', 'ddsdltdb.prezzigiornalieriquartoorari')\n",
      "2025-02-24 17:40:56,471 - INFO - Expectation instance created: id=None meta={'check_name': 'sapNac-ComponenteIncentivante-ExpectColumnValuesToBeBetween', 'data_product_name': 'sapNac'} notes=None result_format=<ResultFormat.BASIC: 'BASIC'> description=None catch_exceptions=True rendered_content=None windows=None batch_id=None column='ComponenteIncentivante' mostly=1 row_condition=None condition_parser=None min_value=0.0 max_value=None strict_min=False strict_max=False\n",
      "Calculating Metrics: 100%|██████████| 10/10 [00:00<00:00, 169.44it/s]\n",
      "2025-02-24 17:40:56,594 - INFO - Validation Results created!\n"
     ]
    },
    {
     "name": "stdout",
     "output_type": "stream",
     "text": [
      "[{'success': True, 'expectation_config': {'type': 'expect_column_values_to_not_be_null', 'kwargs': {'batch_id': 'dit_dicox_dpflab_dds2_dev-ddsdltdb.segnogiornalieroquartoorario', 'column': 'PK'}, 'meta': {'check_name': 'sapNac-dit_dicox_dpflab_dds2_dev-ddsdltdb.segnogiornalieroquartoorario-PK-ExpectColumnValuesToNotBeNull', 'data_product_name': 'sapNac'}}, 'result': {'element_count': 192, 'unexpected_count': 0, 'unexpected_percent': 0.0, 'partial_unexpected_list': [], 'partial_unexpected_counts': [], 'partial_unexpected_index_list': []}, 'meta': {}, 'exception_info': {'raised_exception': False, 'exception_traceback': None, 'exception_message': None}}, {'success': True, 'expectation_config': {'type': 'expect_column_values_to_be_in_set', 'kwargs': {'batch_id': 'dit_dicox_dpflab_dds2_dev-ddsdltdb.segnogiornalieroquartoorario', 'column': 'Macrozona', 'value_set': ['NORD', 'SUD']}, 'meta': {'check_name': 'sapNac-dit_dicox_dpflab_dds2_dev-ddsdltdb.segnogiornalieroquartoorario-Macrozona-ExpectColumnValuesToBeInSet', 'data_product_name': 'sapNac'}}, 'result': {'element_count': 192, 'unexpected_count': 0, 'unexpected_percent': 0.0, 'partial_unexpected_list': [], 'missing_count': 0, 'missing_percent': 0.0, 'unexpected_percent_total': 0.0, 'unexpected_percent_nonmissing': 0.0, 'partial_unexpected_counts': [], 'partial_unexpected_index_list': []}, 'meta': {}, 'exception_info': {'raised_exception': False, 'exception_traceback': None, 'exception_message': None}}, {'success': False, 'expectation_config': {'type': 'expect_column_values_to_be_between', 'kwargs': {'batch_id': 'dit_dicox_dpflab_dds2_dev-ddsdltdb.segnogiornalieroquartoorario', 'column': 'Scambi[MWh]', 'min_value': -930.0, 'max_value': 800.0}, 'meta': {'check_name': 'sapNac-dit_dicox_dpflab_dds2_dev.ddsdltdb.segnogiornalieroquartoorario-ScambiMWh-ExpectColumnValuesToBeBetween', 'data_product_name': 'sapNac'}}, 'result': {'element_count': 192, 'unexpected_count': 25, 'unexpected_percent': 13.020833333333334, 'partial_unexpected_list': [833.614, 827.633, 832.356, -945.744, -942.712, 828.697, 945.744, -951.236, -957.679, 806.626, 893.84, 957.679, 816.077, 886.331, 804.555, -944.342, 822.256, 944.342, 820.011, -974.36], 'missing_count': 0, 'missing_percent': 0.0, 'unexpected_percent_total': 13.020833333333334, 'unexpected_percent_nonmissing': 13.020833333333334, 'partial_unexpected_counts': [{'value': -974.36, 'count': 1}, {'value': -957.679, 'count': 1}, {'value': -951.236, 'count': 1}, {'value': -945.744, 'count': 1}, {'value': -944.342, 'count': 1}, {'value': -942.712, 'count': 1}, {'value': 804.555, 'count': 1}, {'value': 806.626, 'count': 1}, {'value': 816.077, 'count': 1}, {'value': 820.011, 'count': 1}, {'value': 822.256, 'count': 1}, {'value': 827.633, 'count': 1}, {'value': 828.697, 'count': 1}, {'value': 832.356, 'count': 1}, {'value': 833.614, 'count': 1}, {'value': 886.331, 'count': 1}, {'value': 893.84, 'count': 1}, {'value': 944.342, 'count': 1}, {'value': 945.744, 'count': 1}, {'value': 957.679, 'count': 1}], 'partial_unexpected_index_list': [2, 4, 5, 28, 37, 56, 60, 66, 88, 92, 98, 102, 107, 111, 113, 129, 136, 137, 141, 161]}, 'meta': {}, 'exception_info': {'raised_exception': False, 'exception_traceback': None, 'exception_message': None}}, {'success': False, 'expectation_config': {'type': 'expect_column_values_to_match_regex', 'kwargs': {'batch_id': 'dit_dicox_dpflab_dds2_dev-ddsdltdb.segnogiornalieroquartoorario', 'column': 'DataDiRiferimento', 'regex': '^\\\\d{2}/\\\\d{2}/\\\\d{4}$'}, 'meta': {'check_name': 'sapNac-dit_dicox_dpflab_dds2_dev.ddsdltdb.segnogiornalieroquartoorario-DataDiRiferimento-ExpectColumnValuesToMatchRegex', 'data_product_name': 'sapNac'}}, 'result': {'element_count': 192, 'unexpected_count': 192, 'unexpected_percent': 100.0, 'partial_unexpected_list': ['22/10/2024 16:15', '22/10/2024 07:30', '22/10/2024 22:00', '22/10/2024 16:00', '22/10/2024 20:15', '22/10/2024 21:15', '22/10/2024 00:45', '22/10/2024 08:30', '22/10/2024 12:15', '22/10/2024 11:15', '22/10/2024 13:00', '22/10/2024 03:15', '22/10/2024 14:00', '22/10/2024 01:30', '22/10/2024 05:00', '22/10/2024 07:45', '22/10/2024 14:15', '22/10/2024 08:00', '22/10/2024 09:00', '22/10/2024 10:15'], 'missing_count': 0, 'missing_percent': 0.0, 'unexpected_percent_total': 100.0, 'unexpected_percent_nonmissing': 100.0, 'partial_unexpected_counts': [{'value': '22/10/2024 00:45', 'count': 1}, {'value': '22/10/2024 01:30', 'count': 1}, {'value': '22/10/2024 03:15', 'count': 1}, {'value': '22/10/2024 05:00', 'count': 1}, {'value': '22/10/2024 07:30', 'count': 1}, {'value': '22/10/2024 07:45', 'count': 1}, {'value': '22/10/2024 08:00', 'count': 1}, {'value': '22/10/2024 08:30', 'count': 1}, {'value': '22/10/2024 09:00', 'count': 1}, {'value': '22/10/2024 10:15', 'count': 1}, {'value': '22/10/2024 11:15', 'count': 1}, {'value': '22/10/2024 12:15', 'count': 1}, {'value': '22/10/2024 13:00', 'count': 1}, {'value': '22/10/2024 14:00', 'count': 1}, {'value': '22/10/2024 14:15', 'count': 1}, {'value': '22/10/2024 16:00', 'count': 1}, {'value': '22/10/2024 16:15', 'count': 1}, {'value': '22/10/2024 20:15', 'count': 1}, {'value': '22/10/2024 21:15', 'count': 1}, {'value': '22/10/2024 22:00', 'count': 1}], 'partial_unexpected_index_list': [0, 1, 2, 3, 4, 5, 6, 7, 8, 9, 10, 11, 12, 13, 14, 15, 16, 17, 18, 19]}, 'meta': {}, 'exception_info': {'raised_exception': False, 'exception_traceback': None, 'exception_message': None}}, {'success': False, 'expectation_config': {'type': 'expect_column_pair_values_a_to_be_greater_than_b', 'kwargs': {'batch_id': 'dit_dicox_dpflab_dds2_dev-ddsdltdb.prezzigiornalieriquartoorari', 'column_A': 'PrezzoSbilanciamento', 'column_B': 'PrezzoBase', 'or_equal': True}, 'meta': {'check_name': 'sapNac-PrezzoSbilanciamento-PrezzoBase-ExpectColumnPairValuesAToBeGreaterThanB', 'data_product_name': 'sapNac'}}, 'result': {'element_count': 186, 'unexpected_count': 1, 'unexpected_percent': 0.5376344086021506, 'partial_unexpected_list': [[126.2, 137.5]], 'missing_count': 0, 'missing_percent': 0.0, 'unexpected_percent_total': 0.5376344086021506, 'unexpected_percent_nonmissing': 0.5376344086021506, 'partial_unexpected_counts': [{'value': [126.2, 137.5], 'count': 1}], 'partial_unexpected_index_list': [50]}, 'meta': {}, 'exception_info': {'raised_exception': False, 'exception_traceback': None, 'exception_message': None}}, {'success': False, 'expectation_config': {'type': 'expect_column_values_to_be_between', 'kwargs': {'batch_id': 'dit_dicox_dpflab_dds2_dev-ddsdltdb.prezzigiornalieriquartoorari', 'column': 'ComponenteIncentivante', 'min_value': 0.0}, 'meta': {'check_name': 'sapNac-ComponenteIncentivante-ExpectColumnValuesToBeBetween', 'data_product_name': 'sapNac'}}, 'result': {'element_count': 186, 'unexpected_count': 1, 'unexpected_percent': 0.5376344086021506, 'partial_unexpected_list': [-11.3], 'missing_count': 0, 'missing_percent': 0.0, 'unexpected_percent_total': 0.5376344086021506, 'unexpected_percent_nonmissing': 0.5376344086021506, 'partial_unexpected_counts': [{'value': -11.3, 'count': 1}], 'partial_unexpected_index_list': [50]}, 'meta': {}, 'exception_info': {'raised_exception': False, 'exception_traceback': None, 'exception_message': None}}]\n"
     ]
    }
   ],
   "source": [
    "# GX module\n",
    "validation_results = qualitysidecar_gx.validate_data_quality('resources/sapNac/csv_v0.1.json')\n",
    "print(validation_results)"
   ]
  },
  {
   "cell_type": "code",
   "execution_count": 5,
   "id": "aeb6093a-791c-4116-84a2-d4e781dc4c95",
   "metadata": {},
   "outputs": [
    {
     "name": "stdout",
     "output_type": "stream",
     "text": [
      "environment.py\t__init__.py  __pycache__\n"
     ]
    }
   ],
   "source": [
    "!ls /opt/conda/lib/python3.11/site-packages/qualitysidecar/qualitysidecar_otlp/configurations"
   ]
  },
  {
   "cell_type": "code",
   "execution_count": 6,
   "id": "311be620-ee15-46bd-95c2-1cd124061b60",
   "metadata": {
    "scrolled": true
   },
   "outputs": [
    {
     "name": "stderr",
     "output_type": "stream",
     "text": [
      "2025-02-24 17:40:56,906 - INFO - Setting environment variables...\n",
      "2025-02-24 17:40:56,908 - INFO - OTEL_SERVICE_NAME set to sapNac-quality_sidecar\n",
      "2025-02-24 17:40:56,910 - INFO - Executing OpenTelemetry command...\n",
      "2025-02-24 17:40:58,645 - INFO - Command executed successfully!\n"
     ]
    },
    {
     "name": "stdout",
     "output_type": "stream",
     "text": [
      "{\n",
      "    \"resource_metrics\": [\n",
      "        {\n",
      "            \"resource\": {\n",
      "                \"attributes\": {\n",
      "                    \"telemetry.sdk.language\": \"python\",\n",
      "                    \"telemetry.sdk.name\": \"opentelemetry\",\n",
      "                    \"telemetry.sdk.version\": \"1.30.0\",\n",
      "                    \"service.name\": \"sapNac-quality_sidecar\",\n",
      "                    \"telemetry.auto.version\": \"0.51b0\"\n",
      "                },\n",
      "                \"schema_url\": \"\"\n",
      "            },\n",
      "            \"scope_metrics\": [\n",
      "                {\n",
      "                    \"scope\": {\n",
      "                        \"name\": \"__main__\",\n",
      "                        \"version\": \"\",\n",
      "                        \"schema_url\": \"\",\n",
      "                        \"attributes\": null\n",
      "                    },\n",
      "                    \"metrics\": [\n",
      "                        {\n",
      "                            \"name\": \"sapnac\",\n",
      "                            \"description\": \"\",\n",
      "                            \"unit\": \"%\",\n",
      "                            \"data\": {\n",
      "                                \"data_points\": [\n",
      "                                    {\n",
      "                                        \"attributes\": {\n",
      "                                            \"signal_type\": \"DATA_QUALITY\",\n",
      "                                            \"checked_elements_nbr\": 192,\n",
      "                                            \"errors_nbr\": 0,\n",
      "                                            \"check_name\": \"sapNac-dit_dicox_dpflab_dds2_dev-ddsdltdb.segnogiornalieroquartoorario-PK-ExpectColumnValuesToNotBeNull\",\n",
      "                                            \"data_product_name\": \"sapNac\"\n",
      "                                        },\n",
      "                                        \"start_time_unix_nano\": null,\n",
      "                                        \"time_unix_nano\": 1740418858554638462,\n",
      "                                        \"value\": 100.0,\n",
      "                                        \"exemplars\": []\n",
      "                                    },\n",
      "                                    {\n",
      "                                        \"attributes\": {\n",
      "                                            \"signal_type\": \"DATA_QUALITY\",\n",
      "                                            \"checked_elements_nbr\": 192,\n",
      "                                            \"errors_nbr\": 0,\n",
      "                                            \"check_name\": \"sapNac-dit_dicox_dpflab_dds2_dev-ddsdltdb.segnogiornalieroquartoorario-Macrozona-ExpectColumnValuesToBeInSet\",\n",
      "                                            \"data_product_name\": \"sapNac\"\n",
      "                                        },\n",
      "                                        \"start_time_unix_nano\": null,\n",
      "                                        \"time_unix_nano\": 1740418858554638462,\n",
      "                                        \"value\": 100.0,\n",
      "                                        \"exemplars\": []\n",
      "                                    },\n",
      "                                    {\n",
      "                                        \"attributes\": {\n",
      "                                            \"signal_type\": \"DATA_QUALITY\",\n",
      "                                            \"checked_elements_nbr\": 192,\n",
      "                                            \"errors_nbr\": 25,\n",
      "                                            \"check_name\": \"sapNac-dit_dicox_dpflab_dds2_dev.ddsdltdb.segnogiornalieroquartoorario-ScambiMWh-ExpectColumnValuesToBeBetween\",\n",
      "                                            \"data_product_name\": \"sapNac\"\n",
      "                                        },\n",
      "                                        \"start_time_unix_nano\": null,\n",
      "                                        \"time_unix_nano\": 1740418858554638462,\n",
      "                                        \"value\": 86.97916666666667,\n",
      "                                        \"exemplars\": []\n",
      "                                    },\n",
      "                                    {\n",
      "                                        \"attributes\": {\n",
      "                                            \"signal_type\": \"DATA_QUALITY\",\n",
      "                                            \"checked_elements_nbr\": 192,\n",
      "                                            \"errors_nbr\": 192,\n",
      "                                            \"check_name\": \"sapNac-dit_dicox_dpflab_dds2_dev.ddsdltdb.segnogiornalieroquartoorario-DataDiRiferimento-ExpectColumnValuesToMatchRegex\",\n",
      "                                            \"data_product_name\": \"sapNac\"\n",
      "                                        },\n",
      "                                        \"start_time_unix_nano\": null,\n",
      "                                        \"time_unix_nano\": 1740418858554638462,\n",
      "                                        \"value\": 0.0,\n",
      "                                        \"exemplars\": []\n",
      "                                    },\n",
      "                                    {\n",
      "                                        \"attributes\": {\n",
      "                                            \"signal_type\": \"DATA_QUALITY\",\n",
      "                                            \"checked_elements_nbr\": 186,\n",
      "                                            \"errors_nbr\": 1,\n",
      "                                            \"check_name\": \"sapNac-PrezzoSbilanciamento-PrezzoBase-ExpectColumnPairValuesAToBeGreaterThanB\",\n",
      "                                            \"data_product_name\": \"sapNac\"\n",
      "                                        },\n",
      "                                        \"start_time_unix_nano\": null,\n",
      "                                        \"time_unix_nano\": 1740418858554638462,\n",
      "                                        \"value\": 99.46236559139786,\n",
      "                                        \"exemplars\": []\n",
      "                                    },\n",
      "                                    {\n",
      "                                        \"attributes\": {\n",
      "                                            \"signal_type\": \"DATA_QUALITY\",\n",
      "                                            \"checked_elements_nbr\": 186,\n",
      "                                            \"errors_nbr\": 1,\n",
      "                                            \"check_name\": \"sapNac-ComponenteIncentivante-ExpectColumnValuesToBeBetween\",\n",
      "                                            \"data_product_name\": \"sapNac\"\n",
      "                                        },\n",
      "                                        \"start_time_unix_nano\": null,\n",
      "                                        \"time_unix_nano\": 1740418858554638462,\n",
      "                                        \"value\": 99.46236559139786,\n",
      "                                        \"exemplars\": []\n",
      "                                    }\n",
      "                                ]\n",
      "                            }\n",
      "                        }\n",
      "                    ],\n",
      "                    \"schema_url\": \"\"\n",
      "                }\n",
      "            ],\n",
      "            \"schema_url\": \"\"\n",
      "        }\n",
      "    ]\n",
      "}\n",
      "\n"
     ]
    }
   ],
   "source": [
    "# OTLP module\n",
    "result = qualitysidecar_otlp.send_metric(validation_results)\n",
    "print(result)"
   ]
  },
  {
   "cell_type": "code",
   "execution_count": null,
   "id": "0c43ea96-cbd1-44b1-8ff6-957ca00d65c1",
   "metadata": {},
   "outputs": [],
   "source": []
  }
 ],
 "metadata": {
  "kernelspec": {
   "display_name": "Python 3 (ipykernel)",
   "language": "python",
   "name": "python3"
  },
  "language_info": {
   "codemirror_mode": {
    "name": "ipython",
    "version": 3
   },
   "file_extension": ".py",
   "mimetype": "text/x-python",
   "name": "python",
   "nbconvert_exporter": "python",
   "pygments_lexer": "ipython3",
   "version": "3.11.6"
  }
 },
 "nbformat": 4,
 "nbformat_minor": 5
}
