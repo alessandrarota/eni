{
 "cells": [
  {
   "cell_type": "code",
   "execution_count": 1,
   "id": "fc7a0498-8112-4b77-899e-0feae61cd415",
   "metadata": {},
   "outputs": [],
   "source": [
    "import os\n",
    "#os.environ[\"ENV\"] = \"sd\"\n",
    "os.environ[\"OTEL_EXPORTER_ENDPOINT\"] = \"http://platform-collector:4318\"\n",
    "os.environ[\"DATA_PRODUCT_NAME\"] = \"sapNac\""
   ]
  },
  {
   "cell_type": "code",
   "execution_count": 2,
   "id": "6a477b4b-2221-451f-b67d-57a9c12fecdd",
   "metadata": {},
   "outputs": [],
   "source": [
    "# imports. DO NOT REMOVE!\n",
    "from qualitysidecar import qualitysidecar_gx\n",
    "from qualitysidecar import qualitysidecar_otlp"
   ]
  },
  {
   "cell_type": "code",
   "execution_count": 3,
   "id": "807125d0-6c2a-44db-8dc9-d401d3a607fd",
   "metadata": {
    "scrolled": true
   },
   "outputs": [
    {
     "name": "stdout",
     "output_type": "stream",
     "text": [
      "[{'check_name': 'sapNac-dit_dicox_dpflab_dds2_dev-ddsdltdb.segnogiornalieroquartoorario-PK-ExpectColumnValuesToNotBeNull', 'expectation_type': 'ExpectColumnValuesToNotBeNull', 'asset_name': 'ddsdltdb.segnogiornalieroquartoorario', 'asset_kwargs': {'path': 'resources/sapNac/sapNac-segnogiornalieroquartoorario.csv'}, 'kwargs': {'column': 'PK'}, 'system_name': 'dit_dicox_dpflab_dds2_dev', 'system_type': 'CSV'}, {'check_name': 'sapNac-dit_dicox_dpflab_dds2_dev-ddsdltdb.segnogiornalieroquartoorario-Macrozona-ExpectColumnValuesToBeInSet', 'expectation_type': 'ExpectColumnValuesToBeInSet', 'asset_name': 'ddsdltdb.segnogiornalieroquartoorario', 'asset_kwargs': {'path': 'resources/sapNac/sapNac-segnogiornalieroquartoorario.csv'}, 'kwargs': {'column': 'Macrozona', 'value_set': ['NORD', 'SUD']}, 'system_name': 'dit_dicox_dpflab_dds2_dev', 'system_type': 'CSV'}, {'check_name': 'sapNac-dit_dicox_dpflab_dds2_dev.ddsdltdb.segnogiornalieroquartoorario-ScambiMWh-ExpectColumnValuesToBeBetween', 'expectation_type': 'ExpectColumnValuesToBeBetween', 'asset_name': 'ddsdltdb.segnogiornalieroquartoorario', 'asset_kwargs': {'path': 'resources/sapNac/sapNac-segnogiornalieroquartoorario.csv'}, 'kwargs': {'column': 'Scambi[MWh]', 'min_value': -930, 'max_value': 800}, 'system_name': 'dit_dicox_dpflab_dds2_dev', 'system_type': 'CSV'}, {'check_name': 'sapNac-dit_dicox_dpflab_dds2_dev.ddsdltdb.segnogiornalieroquartoorario-DataDiRiferimento-ExpectColumnValuesToMatchRegex', 'expectation_type': 'ExpectColumnValuesToMatchRegex', 'asset_name': 'ddsdltdb.segnogiornalieroquartoorario', 'asset_kwargs': {'path': 'resources/sapNac/sapNac-segnogiornalieroquartoorario.csv'}, 'kwargs': {'column': 'DataDiRiferimento', 'regex': '^\\\\d{2}/\\\\d{2}/\\\\d{4}$'}, 'system_name': 'dit_dicox_dpflab_dds2_dev', 'system_type': 'CSV'}, {'check_name': 'sapNac-PrezzoSbilanciamento-PrezzoBase-ExpectColumnPairValuesAToBeGreaterThanB', 'expectation_type': 'ExpectColumnPairValuesAToBeGreaterThanB', 'asset_name': 'ddsdltdb.prezzigiornalieriquartoorari', 'asset_kwargs': {'path': 'resources/sapNac/sapNac-prezzigiornalieriquartoorari.csv'}, 'kwargs': {'column_A': 'PrezzoSbilanciamento', 'column_B': 'PrezzoBase', 'or_equal': True}, 'system_name': 'dit_dicox_dpflab_dds2_dev', 'system_type': 'CSV'}, {'check_name': 'sapNac-ComponenteIncentivante-ExpectColumnValuesToBeBetween', 'expectation_type': 'ExpectColumnValuesToBeBetween', 'asset_name': 'ddsdltdb.prezzigiornalieriquartoorari', 'asset_kwargs': {'path': 'resources/sapNac/sapNac-prezzigiornalieriquartoorari.csv'}, 'kwargs': {'column': 'ComponenteIncentivante', 'min_value': 0}, 'system_name': 'dit_dicox_dpflab_dds2_dev', 'system_type': 'CSV'}]\n"
     ]
    }
   ],
   "source": [
    "configurations = qualitysidecar_gx.extract_configurations('resources/sapNac/csv_v0.1.json')\n",
    "print(configurations)"
   ]
  },
  {
   "cell_type": "code",
   "execution_count": 4,
   "id": "1d1d9a15-1b6b-4a60-b502-8bc5eb566713",
   "metadata": {
    "scrolled": true
   },
   "outputs": [
    {
     "name": "stderr",
     "output_type": "stream",
     "text": [
      "Setting default log level to \"WARN\".\n",
      "To adjust logging level use sc.setLogLevel(newLevel). For SparkR, use setLogLevel(newLevel).\n",
      "25/03/12 12:54:21 WARN NativeCodeLoader: Unable to load native-hadoop library for your platform... using builtin-java classes where applicable\n",
      "INFO:great_expectations.data_context.types.base:Created temporary directory '/tmp/tmply748vlr' for ephemeral docs site\n",
      "Calculating Metrics: 100%|██████████| 10/10 [00:01<00:00,  6.75it/s]\n",
      "INFO:great_expectations.data_context.types.base:Created temporary directory '/tmp/tmp9qnx6n1_' for ephemeral docs site\n",
      "Calculating Metrics: 100%|██████████| 13/13 [00:00<00:00, 13.33it/s]\n",
      "INFO:great_expectations.data_context.types.base:Created temporary directory '/tmp/tmp76d357r5' for ephemeral docs site\n",
      "Calculating Metrics: 100%|██████████| 13/13 [00:01<00:00, 12.33it/s]\n",
      "INFO:great_expectations.data_context.types.base:Created temporary directory '/tmp/tmpmp91jj9e' for ephemeral docs site\n",
      "Calculating Metrics: 100%|██████████| 13/13 [00:00<00:00, 18.04it/s]\n",
      "INFO:great_expectations.data_context.types.base:Created temporary directory '/tmp/tmp68jw33qo' for ephemeral docs site\n",
      "Calculating Metrics: 100%|██████████| 10/10 [00:00<00:00, 10.13it/s]\n",
      "INFO:great_expectations.data_context.types.base:Created temporary directory '/tmp/tmp13gxwag_' for ephemeral docs site\n",
      "Calculating Metrics: 100%|██████████| 13/13 [00:00<00:00, 15.95it/s]"
     ]
    },
    {
     "name": "stdout",
     "output_type": "stream",
     "text": [
      "[{'success': True, 'expectation_config': {'type': 'expect_column_values_to_not_be_null', 'kwargs': {'batch_id': 'dit_dicox_dpflab_dds2_dev-ddsdltdb.segnogiornalieroquartoorario', 'column': 'PK'}, 'meta': {'check_name': 'sapNac-dit_dicox_dpflab_dds2_dev-ddsdltdb.segnogiornalieroquartoorario-PK-ExpectColumnValuesToNotBeNull', 'data_product_name': 'sapNac'}}, 'result': {'element_count': 192, 'unexpected_count': 0, 'unexpected_percent': 0.0, 'partial_unexpected_list': [], 'partial_unexpected_counts': []}, 'meta': {}, 'exception_info': {'raised_exception': False, 'exception_traceback': None, 'exception_message': None}}, {'success': True, 'expectation_config': {'type': 'expect_column_values_to_be_in_set', 'kwargs': {'batch_id': 'dit_dicox_dpflab_dds2_dev-ddsdltdb.segnogiornalieroquartoorario', 'column': 'MACROZONA', 'value_set': ['NORD', 'SUD']}, 'meta': {'check_name': 'sapNac-dit_dicox_dpflab_dds2_dev-ddsdltdb.segnogiornalieroquartoorario-Macrozona-ExpectColumnValuesToBeInSet', 'data_product_name': 'sapNac'}}, 'result': {'element_count': 192, 'unexpected_count': 0, 'unexpected_percent': 0.0, 'partial_unexpected_list': [], 'missing_count': 0, 'missing_percent': 0.0, 'unexpected_percent_total': 0.0, 'unexpected_percent_nonmissing': 0.0, 'partial_unexpected_counts': []}, 'meta': {}, 'exception_info': {'raised_exception': False, 'exception_traceback': None, 'exception_message': None}}, {'success': False, 'expectation_config': {'type': 'expect_column_values_to_be_between', 'kwargs': {'batch_id': 'dit_dicox_dpflab_dds2_dev-ddsdltdb.segnogiornalieroquartoorario', 'column': 'SCAMBI_MWH_', 'min_value': -930.0, 'max_value': 800.0}, 'meta': {'check_name': 'sapNac-dit_dicox_dpflab_dds2_dev.ddsdltdb.segnogiornalieroquartoorario-ScambiMWh-ExpectColumnValuesToBeBetween', 'data_product_name': 'sapNac'}}, 'result': {'element_count': 192, 'unexpected_count': 25, 'unexpected_percent': 13.020833333333334, 'partial_unexpected_list': [833.614, 827.633, 832.356, -945.744, -942.712, 828.697, 945.744, -951.236, -957.679, 806.626, 893.84, 957.679, 816.077, 886.331, 804.555, -944.342, 822.256, 944.342, 820.011, -974.36], 'missing_count': 0, 'missing_percent': 0.0, 'unexpected_percent_total': 13.020833333333334, 'unexpected_percent_nonmissing': 13.020833333333334, 'partial_unexpected_counts': [{'value': -974.36, 'count': 1}, {'value': -957.679, 'count': 1}, {'value': -951.236, 'count': 1}, {'value': -945.744, 'count': 1}, {'value': -944.342, 'count': 1}, {'value': -942.712, 'count': 1}, {'value': 804.555, 'count': 1}, {'value': 806.626, 'count': 1}, {'value': 816.077, 'count': 1}, {'value': 820.011, 'count': 1}, {'value': 822.256, 'count': 1}, {'value': 827.633, 'count': 1}, {'value': 828.697, 'count': 1}, {'value': 832.356, 'count': 1}, {'value': 833.614, 'count': 1}, {'value': 886.331, 'count': 1}, {'value': 893.84, 'count': 1}, {'value': 944.342, 'count': 1}, {'value': 945.744, 'count': 1}, {'value': 957.679, 'count': 1}]}, 'meta': {}, 'exception_info': {'raised_exception': False, 'exception_traceback': None, 'exception_message': None}}, {'success': False, 'expectation_config': {'type': 'expect_column_values_to_match_regex', 'kwargs': {'batch_id': 'dit_dicox_dpflab_dds2_dev-ddsdltdb.segnogiornalieroquartoorario', 'column': 'DATADIRIFERIMENTO', 'regex': '^\\\\d{2}/\\\\d{2}/\\\\d{4}$'}, 'meta': {'check_name': 'sapNac-dit_dicox_dpflab_dds2_dev.ddsdltdb.segnogiornalieroquartoorario-DataDiRiferimento-ExpectColumnValuesToMatchRegex', 'data_product_name': 'sapNac'}}, 'result': {'element_count': 192, 'unexpected_count': 192, 'unexpected_percent': 100.0, 'partial_unexpected_list': ['22/10/2024 16:15', '22/10/2024 07:30', '22/10/2024 22:00', '22/10/2024 16:00', '22/10/2024 20:15', '22/10/2024 21:15', '22/10/2024 00:45', '22/10/2024 08:30', '22/10/2024 12:15', '22/10/2024 11:15', '22/10/2024 13:00', '22/10/2024 03:15', '22/10/2024 14:00', '22/10/2024 01:30', '22/10/2024 05:00', '22/10/2024 07:45', '22/10/2024 14:15', '22/10/2024 08:00', '22/10/2024 09:00', '22/10/2024 10:15'], 'missing_count': 0, 'missing_percent': 0.0, 'unexpected_percent_total': 100.0, 'unexpected_percent_nonmissing': 100.0, 'partial_unexpected_counts': [{'value': '22/10/2024 00:45', 'count': 1}, {'value': '22/10/2024 01:30', 'count': 1}, {'value': '22/10/2024 03:15', 'count': 1}, {'value': '22/10/2024 05:00', 'count': 1}, {'value': '22/10/2024 07:30', 'count': 1}, {'value': '22/10/2024 07:45', 'count': 1}, {'value': '22/10/2024 08:00', 'count': 1}, {'value': '22/10/2024 08:30', 'count': 1}, {'value': '22/10/2024 09:00', 'count': 1}, {'value': '22/10/2024 10:15', 'count': 1}, {'value': '22/10/2024 11:15', 'count': 1}, {'value': '22/10/2024 12:15', 'count': 1}, {'value': '22/10/2024 13:00', 'count': 1}, {'value': '22/10/2024 14:00', 'count': 1}, {'value': '22/10/2024 14:15', 'count': 1}, {'value': '22/10/2024 16:00', 'count': 1}, {'value': '22/10/2024 16:15', 'count': 1}, {'value': '22/10/2024 20:15', 'count': 1}, {'value': '22/10/2024 21:15', 'count': 1}, {'value': '22/10/2024 22:00', 'count': 1}]}, 'meta': {}, 'exception_info': {'raised_exception': False, 'exception_traceback': None, 'exception_message': None}}, {'success': False, 'expectation_config': {'type': 'expect_column_pair_values_a_to_be_greater_than_b', 'kwargs': {'batch_id': 'dit_dicox_dpflab_dds2_dev-ddsdltdb.prezzigiornalieriquartoorari', 'column_A': 'PREZZOSBILANCIAMENTO', 'column_B': 'PREZZOBASE', 'or_equal': True}, 'meta': {'check_name': 'sapNac-PrezzoSbilanciamento-PrezzoBase-ExpectColumnPairValuesAToBeGreaterThanB', 'data_product_name': 'sapNac'}}, 'result': {'element_count': 186, 'unexpected_count': 1, 'unexpected_percent': 0.5376344086021506, 'partial_unexpected_list': [[126.2, 137.5]], 'missing_count': 0, 'missing_percent': 0.0, 'unexpected_percent_total': 0.5376344086021506, 'unexpected_percent_nonmissing': 0.5376344086021506, 'partial_unexpected_counts': [{'value': [126.2, 137.5], 'count': 1}]}, 'meta': {}, 'exception_info': {'raised_exception': False, 'exception_traceback': None, 'exception_message': None}}, {'success': False, 'expectation_config': {'type': 'expect_column_values_to_be_between', 'kwargs': {'batch_id': 'dit_dicox_dpflab_dds2_dev-ddsdltdb.prezzigiornalieriquartoorari', 'column': 'COMPONENTEINCENTIVANTE', 'min_value': 0.0}, 'meta': {'check_name': 'sapNac-ComponenteIncentivante-ExpectColumnValuesToBeBetween', 'data_product_name': 'sapNac'}}, 'result': {'element_count': 186, 'unexpected_count': 1, 'unexpected_percent': 0.5376344086021506, 'partial_unexpected_list': [-11.3], 'missing_count': 0, 'missing_percent': 0.0, 'unexpected_percent_total': 0.5376344086021506, 'unexpected_percent_nonmissing': 0.5376344086021506, 'partial_unexpected_counts': [{'value': -11.3, 'count': 1}]}, 'meta': {}, 'exception_info': {'raised_exception': False, 'exception_traceback': None, 'exception_message': None}}]\n"
     ]
    },
    {
     "name": "stderr",
     "output_type": "stream",
     "text": [
      "\n"
     ]
    }
   ],
   "source": [
    "validation_results = []\n",
    "for configuration in configurations:\n",
    "    dataframe = qualitysidecar_gx.retrieve_dataframe_from_configuration(configuration)\n",
    "    validation_results.append(qualitysidecar_gx.run_validations(configuration, dataframe))\n",
    "print(validation_results)"
   ]
  },
  {
   "cell_type": "code",
   "execution_count": 5,
   "id": "8040281b-58dd-4d9f-894e-f24ee9e30d33",
   "metadata": {
    "scrolled": true
   },
   "outputs": [
    {
     "name": "stdout",
     "output_type": "stream",
     "text": [
      "{\n",
      "    \"resource_metrics\": [\n",
      "        {\n",
      "            \"resource\": {\n",
      "                \"attributes\": {\n",
      "                    \"telemetry.sdk.language\": \"python\",\n",
      "                    \"telemetry.sdk.name\": \"opentelemetry\",\n",
      "                    \"telemetry.sdk.version\": \"1.30.0\",\n",
      "                    \"service.name\": \"sapNac-quality_sidecar\",\n",
      "                    \"telemetry.auto.version\": \"0.51b0\"\n",
      "                },\n",
      "                \"schema_url\": \"\"\n",
      "            },\n",
      "            \"scope_metrics\": [\n",
      "                {\n",
      "                    \"scope\": {\n",
      "                        \"name\": \"__main__\",\n",
      "                        \"version\": \"\",\n",
      "                        \"schema_url\": \"\",\n",
      "                        \"attributes\": null\n",
      "                    },\n",
      "                    \"metrics\": [\n",
      "                        {\n",
      "                            \"name\": \"sapnac\",\n",
      "                            \"description\": \"\",\n",
      "                            \"unit\": \"%\",\n",
      "                            \"data\": {\n",
      "                                \"data_points\": [\n",
      "                                    {\n",
      "                                        \"attributes\": {\n",
      "                                            \"signal_type\": \"DATA_QUALITY\",\n",
      "                                            \"checked_elements_nbr\": 192,\n",
      "                                            \"errors_nbr\": 0,\n",
      "                                            \"check_name\": \"sapNac-dit_dicox_dpflab_dds2_dev-ddsdltdb.segnogiornalieroquartoorario-PK-ExpectColumnValuesToNotBeNull\",\n",
      "                                            \"data_product_name\": \"sapNac\"\n",
      "                                        },\n",
      "                                        \"start_time_unix_nano\": null,\n",
      "                                        \"time_unix_nano\": 1741784080411127710,\n",
      "                                        \"value\": 100.0,\n",
      "                                        \"exemplars\": []\n",
      "                                    },\n",
      "                                    {\n",
      "                                        \"attributes\": {\n",
      "                                            \"signal_type\": \"DATA_QUALITY\",\n",
      "                                            \"checked_elements_nbr\": 192,\n",
      "                                            \"errors_nbr\": 0,\n",
      "                                            \"check_name\": \"sapNac-dit_dicox_dpflab_dds2_dev-ddsdltdb.segnogiornalieroquartoorario-Macrozona-ExpectColumnValuesToBeInSet\",\n",
      "                                            \"data_product_name\": \"sapNac\"\n",
      "                                        },\n",
      "                                        \"start_time_unix_nano\": null,\n",
      "                                        \"time_unix_nano\": 1741784080411127710,\n",
      "                                        \"value\": 100.0,\n",
      "                                        \"exemplars\": []\n",
      "                                    },\n",
      "                                    {\n",
      "                                        \"attributes\": {\n",
      "                                            \"signal_type\": \"DATA_QUALITY\",\n",
      "                                            \"checked_elements_nbr\": 192,\n",
      "                                            \"errors_nbr\": 25,\n",
      "                                            \"check_name\": \"sapNac-dit_dicox_dpflab_dds2_dev.ddsdltdb.segnogiornalieroquartoorario-ScambiMWh-ExpectColumnValuesToBeBetween\",\n",
      "                                            \"data_product_name\": \"sapNac\"\n",
      "                                        },\n",
      "                                        \"start_time_unix_nano\": null,\n",
      "                                        \"time_unix_nano\": 1741784080411127710,\n",
      "                                        \"value\": 86.97916666666667,\n",
      "                                        \"exemplars\": []\n",
      "                                    },\n",
      "                                    {\n",
      "                                        \"attributes\": {\n",
      "                                            \"signal_type\": \"DATA_QUALITY\",\n",
      "                                            \"checked_elements_nbr\": 192,\n",
      "                                            \"errors_nbr\": 192,\n",
      "                                            \"check_name\": \"sapNac-dit_dicox_dpflab_dds2_dev.ddsdltdb.segnogiornalieroquartoorario-DataDiRiferimento-ExpectColumnValuesToMatchRegex\",\n",
      "                                            \"data_product_name\": \"sapNac\"\n",
      "                                        },\n",
      "                                        \"start_time_unix_nano\": null,\n",
      "                                        \"time_unix_nano\": 1741784080411127710,\n",
      "                                        \"value\": 0.0,\n",
      "                                        \"exemplars\": []\n",
      "                                    },\n",
      "                                    {\n",
      "                                        \"attributes\": {\n",
      "                                            \"signal_type\": \"DATA_QUALITY\",\n",
      "                                            \"checked_elements_nbr\": 186,\n",
      "                                            \"errors_nbr\": 1,\n",
      "                                            \"check_name\": \"sapNac-PrezzoSbilanciamento-PrezzoBase-ExpectColumnPairValuesAToBeGreaterThanB\",\n",
      "                                            \"data_product_name\": \"sapNac\"\n",
      "                                        },\n",
      "                                        \"start_time_unix_nano\": null,\n",
      "                                        \"time_unix_nano\": 1741784080411127710,\n",
      "                                        \"value\": 99.46236559139786,\n",
      "                                        \"exemplars\": []\n",
      "                                    },\n",
      "                                    {\n",
      "                                        \"attributes\": {\n",
      "                                            \"signal_type\": \"DATA_QUALITY\",\n",
      "                                            \"checked_elements_nbr\": 186,\n",
      "                                            \"errors_nbr\": 1,\n",
      "                                            \"check_name\": \"sapNac-ComponenteIncentivante-ExpectColumnValuesToBeBetween\",\n",
      "                                            \"data_product_name\": \"sapNac\"\n",
      "                                        },\n",
      "                                        \"start_time_unix_nano\": null,\n",
      "                                        \"time_unix_nano\": 1741784080411127710,\n",
      "                                        \"value\": 99.46236559139786,\n",
      "                                        \"exemplars\": []\n",
      "                                    }\n",
      "                                ]\n",
      "                            }\n",
      "                        }\n",
      "                    ],\n",
      "                    \"schema_url\": \"\"\n",
      "                }\n",
      "            ],\n",
      "            \"schema_url\": \"\"\n",
      "        }\n",
      "    ]\n",
      "}\n",
      "\n"
     ]
    }
   ],
   "source": [
    "result = qualitysidecar_otlp.send_metric(validation_results)\n",
    "print(result)"
   ]
  },
  {
   "cell_type": "code",
   "execution_count": null,
   "id": "662d7093-8ffc-445f-8a54-93448150965b",
   "metadata": {},
   "outputs": [],
   "source": []
  }
 ],
 "metadata": {
  "kernelspec": {
   "display_name": "Python 3 (ipykernel)",
   "language": "python",
   "name": "python3"
  },
  "language_info": {
   "codemirror_mode": {
    "name": "ipython",
    "version": 3
   },
   "file_extension": ".py",
   "mimetype": "text/x-python",
   "name": "python",
   "nbconvert_exporter": "python",
   "pygments_lexer": "ipython3",
   "version": "3.11.6"
  }
 },
 "nbformat": 4,
 "nbformat_minor": 5
}
