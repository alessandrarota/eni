{
 "cells": [
  {
   "cell_type": "code",
   "execution_count": 1,
   "id": "3a0b0f95-db05-4a45-83fe-db52a646fd19",
   "metadata": {},
   "outputs": [
    {
     "name": "stdout",
     "output_type": "stream",
     "text": [
      "\u001b[33mWARNING: The directory '/home/jovyan/.cache/pip' or its parent directory is not owned or is not writable by the current user. The cache has been disabled. Check the permissions and owner of that directory. If executing pip with sudo, you should use sudo's -H flag.\u001b[0m\u001b[33m\n",
      "\u001b[0mName: qualitysidecar\n",
      "Version: 1.0\n",
      "Summary: \n",
      "Home-page: \n",
      "Author: \n",
      "Author-email: \n",
      "License: \n",
      "Location: /opt/conda/lib/python3.11/site-packages\n",
      "Requires: azure-storage-blob, dotenv, fastparquet, great-expectations, opentelemetry-api, opentelemetry-distro, opentelemetry-exporter-otlp, opentelemetry-exporter-otlp-proto-http, opentelemetry-semantic-conventions, opentelemetry-util-http, pandas, pyarrow, pyspark, sh, wrapt\n",
      "Required-by: \n"
     ]
    }
   ],
   "source": [
    "!pip show qualitysidecar"
   ]
  },
  {
   "cell_type": "code",
   "execution_count": 2,
   "id": "fc7a0498-8112-4b77-899e-0feae61cd415",
   "metadata": {},
   "outputs": [],
   "source": [
    "import os\n",
    "#os.environ[\"ENV\"] = \"sd\"\n",
    "os.environ[\"OTEL_EXPORTER_ENDPOINT\"] = \"http://platform-collector:4318\"\n",
    "os.environ[\"DATA_PRODUCT_NAME\"] = \"sapNac\""
   ]
  },
  {
   "cell_type": "code",
   "execution_count": 3,
   "id": "6a477b4b-2221-451f-b67d-57a9c12fecdd",
   "metadata": {},
   "outputs": [],
   "source": [
    "# imports. DO NOT REMOVE!\n",
    "from qualitysidecar import qualitysidecar_gx\n",
    "from qualitysidecar import qualitysidecar_otlp"
   ]
  },
  {
   "cell_type": "code",
   "execution_count": 4,
   "id": "807125d0-6c2a-44db-8dc9-d401d3a607fd",
   "metadata": {
    "scrolled": true
   },
   "outputs": [
    {
     "name": "stdout",
     "output_type": "stream",
     "text": [
      "[{'check_name': 'sapNac-dit_dicox_dpflab_dds2_dev-ddsdltdb.segnogiornalieroquartoorario-PK-ExpectColumnValuesToNotBeNull', 'expectation_type': 'ExpectColumnValuesToNotBeNull', 'asset_name': 'ddsdltdb.segnogiornalieroquartoorario', 'asset_kwargs': {'path': 'resources/sapNac/sapNac-segnogiornalieroquartoorario.csv'}, 'kwargs': {'column': 'PK'}, 'system_name': 'dit_dicox_dpflab_dds2_dev', 'system_type': 'CSV'}, {'check_name': 'sapNac-dit_dicox_dpflab_dds2_dev-ddsdltdb.segnogiornalieroquartoorario-Macrozona-ExpectColumnValuesToBeInSet', 'expectation_type': 'ExpectColumnValuesToBeInSet', 'asset_name': 'ddsdltdb.segnogiornalieroquartoorario', 'asset_kwargs': {'path': 'resources/sapNac/sapNac-segnogiornalieroquartoorario.csv'}, 'kwargs': {'column': 'Macrozona', 'value_set': ['NORD', 'SUD']}, 'system_name': 'dit_dicox_dpflab_dds2_dev', 'system_type': 'CSV'}, {'check_name': 'sapNac-dit_dicox_dpflab_dds2_dev.ddsdltdb.segnogiornalieroquartoorario-ScambiMWh-ExpectColumnValuesToBeBetween', 'expectation_type': 'ExpectColumnValuesToBeBetween', 'asset_name': 'ddsdltdb.segnogiornalieroquartoorario', 'asset_kwargs': {'path': 'resources/sapNac/sapNac-segnogiornalieroquartoorario.csv'}, 'kwargs': {'column': 'Scambi[MWh]', 'min_value': -930, 'max_value': 800}, 'system_name': 'dit_dicox_dpflab_dds2_dev', 'system_type': 'CSV'}, {'check_name': 'sapNac-dit_dicox_dpflab_dds2_dev.ddsdltdb.segnogiornalieroquartoorario-DataDiRiferimento-ExpectColumnValuesToMatchRegex', 'expectation_type': 'ExpectColumnValuesToMatchRegex', 'asset_name': 'ddsdltdb.segnogiornalieroquartoorario', 'asset_kwargs': {'path': 'resources/sapNac/sapNac-segnogiornalieroquartoorario.csv'}, 'kwargs': {'column': 'DataDiRiferimento', 'regex': '^\\\\d{2}/\\\\d{2}/\\\\d{4}$'}, 'system_name': 'dit_dicox_dpflab_dds2_dev', 'system_type': 'CSV'}, {'check_name': 'sapNac-PrezzoSbilanciamento-PrezzoBase-ExpectColumnPairValuesAToBeGreaterThanB', 'expectation_type': 'ExpectColumnPairValuesAToBeGreaterThanB', 'asset_name': 'ddsdltdb.prezzigiornalieriquartoorari', 'asset_kwargs': {'path': 'resources/sapNac/sapNac-prezzigiornalieriquartoorari.csv'}, 'kwargs': {'column_A': 'PrezzoSbilanciamento', 'column_B': 'PrezzoBase', 'or_equal': True}, 'system_name': 'dit_dicox_dpflab_dds2_dev', 'system_type': 'CSV'}, {'check_name': 'sapNac-ComponenteIncentivante-ExpectColumnValuesToBeBetween', 'expectation_type': 'ExpectColumnValuesToBeBetween', 'asset_name': 'ddsdltdb.prezzigiornalieriquartoorari', 'asset_kwargs': {'path': 'resources/sapNac/sapNac-prezzigiornalieriquartoorari.csv'}, 'kwargs': {'column': 'ComponenteIncentivante', 'min_value': 0}, 'system_name': 'dit_dicox_dpflab_dds2_dev', 'system_type': 'CSV'}]\n"
     ]
    }
   ],
   "source": [
    "configurations = qualitysidecar_gx.extract_configurations('resources/sapNac/csv_v0.1.json')\n",
    "print(configurations)"
   ]
  },
  {
   "cell_type": "code",
   "execution_count": 5,
   "id": "1d1d9a15-1b6b-4a60-b502-8bc5eb566713",
   "metadata": {
    "scrolled": true
   },
   "outputs": [
    {
     "name": "stderr",
     "output_type": "stream",
     "text": [
      "Setting default log level to \"WARN\".\n",
      "To adjust logging level use sc.setLogLevel(newLevel). For SparkR, use setLogLevel(newLevel).\n",
      "25/03/25 11:46:58 WARN NativeCodeLoader: Unable to load native-hadoop library for your platform... using builtin-java classes where applicable\n",
      "INFO:great_expectations.data_context.types.base:Created temporary directory '/tmp/tmpwzdbai1a' for ephemeral docs site\n",
      "Calculating Metrics: 100%|██████████| 10/10 [00:01<00:00,  5.07it/s]\n",
      "INFO:great_expectations.data_context.types.base:Created temporary directory '/tmp/tmp7sxwgr9h' for ephemeral docs site\n",
      "Calculating Metrics: 100%|██████████| 13/13 [00:01<00:00, 10.54it/s]\n",
      "INFO:great_expectations.data_context.types.base:Created temporary directory '/tmp/tmp637avf0x' for ephemeral docs site\n",
      "Calculating Metrics: 100%|██████████| 13/13 [00:01<00:00, 11.60it/s]\n",
      "INFO:great_expectations.data_context.types.base:Created temporary directory '/tmp/tmpn67fue50' for ephemeral docs site\n",
      "Calculating Metrics: 100%|██████████| 13/13 [00:00<00:00, 15.20it/s]\n",
      "INFO:great_expectations.data_context.types.base:Created temporary directory '/tmp/tmpdwx195kw' for ephemeral docs site\n",
      "Calculating Metrics: 100%|██████████| 10/10 [00:01<00:00,  8.71it/s]\n",
      "INFO:great_expectations.data_context.types.base:Created temporary directory '/tmp/tmpwovnngmw' for ephemeral docs site\n",
      "Calculating Metrics: 100%|██████████| 13/13 [00:00<00:00, 16.89it/s]"
     ]
    },
    {
     "name": "stdout",
     "output_type": "stream",
     "text": [
      "[{'success': True, 'expectation_config': {'type': 'expect_column_values_to_not_be_null', 'kwargs': {'batch_id': 'dit_dicox_dpflab_dds2_dev-ddsdltdb.segnogiornalieroquartoorario', 'column': 'PK'}, 'meta': {'check_name': 'sapNac-dit_dicox_dpflab_dds2_dev-ddsdltdb.segnogiornalieroquartoorario-PK-ExpectColumnValuesToNotBeNull', 'data_product_name': 'sapNac'}}, 'result': {'element_count': 192, 'unexpected_count': 0, 'unexpected_percent': 0.0, 'expectation_output_metric': None}, 'meta': {}, 'exception_info': {'raised_exception': False, 'exception_traceback': None, 'exception_message': None}}, {'success': True, 'expectation_config': {'type': 'expect_column_values_to_be_in_set', 'kwargs': {'batch_id': 'dit_dicox_dpflab_dds2_dev-ddsdltdb.segnogiornalieroquartoorario', 'column': 'MACROZONA', 'value_set': ['NORD', 'SUD']}, 'meta': {'check_name': 'sapNac-dit_dicox_dpflab_dds2_dev-ddsdltdb.segnogiornalieroquartoorario-Macrozona-ExpectColumnValuesToBeInSet', 'data_product_name': 'sapNac'}}, 'result': {'element_count': 192, 'unexpected_count': 0, 'unexpected_percent': 0.0, 'expectation_output_metric': None}, 'meta': {}, 'exception_info': {'raised_exception': False, 'exception_traceback': None, 'exception_message': None}}, {'success': False, 'expectation_config': {'type': 'expect_column_values_to_be_between', 'kwargs': {'batch_id': 'dit_dicox_dpflab_dds2_dev-ddsdltdb.segnogiornalieroquartoorario', 'column': 'SCAMBI_MWH_', 'min_value': -930.0, 'max_value': 800.0}, 'meta': {'check_name': 'sapNac-dit_dicox_dpflab_dds2_dev.ddsdltdb.segnogiornalieroquartoorario-ScambiMWh-ExpectColumnValuesToBeBetween', 'data_product_name': 'sapNac'}}, 'result': {'element_count': 192, 'unexpected_count': 25, 'unexpected_percent': 13.020833333333334, 'expectation_output_metric': None}, 'meta': {}, 'exception_info': {'raised_exception': False, 'exception_traceback': None, 'exception_message': None}}, {'success': False, 'expectation_config': {'type': 'expect_column_values_to_match_regex', 'kwargs': {'batch_id': 'dit_dicox_dpflab_dds2_dev-ddsdltdb.segnogiornalieroquartoorario', 'column': 'DATADIRIFERIMENTO', 'regex': '^\\\\d{2}/\\\\d{2}/\\\\d{4}$'}, 'meta': {'check_name': 'sapNac-dit_dicox_dpflab_dds2_dev.ddsdltdb.segnogiornalieroquartoorario-DataDiRiferimento-ExpectColumnValuesToMatchRegex', 'data_product_name': 'sapNac'}}, 'result': {'element_count': 192, 'unexpected_count': 192, 'unexpected_percent': 100.0, 'expectation_output_metric': None}, 'meta': {}, 'exception_info': {'raised_exception': False, 'exception_traceback': None, 'exception_message': None}}, {'success': False, 'expectation_config': {'type': 'expect_column_pair_values_a_to_be_greater_than_b', 'kwargs': {'batch_id': 'dit_dicox_dpflab_dds2_dev-ddsdltdb.prezzigiornalieriquartoorari', 'column_A': 'PREZZOSBILANCIAMENTO', 'column_B': 'PREZZOBASE', 'or_equal': True}, 'meta': {'check_name': 'sapNac-PrezzoSbilanciamento-PrezzoBase-ExpectColumnPairValuesAToBeGreaterThanB', 'data_product_name': 'sapNac'}}, 'result': {'element_count': 186, 'unexpected_count': 1, 'unexpected_percent': 0.5376344086021506, 'expectation_output_metric': None}, 'meta': {}, 'exception_info': {'raised_exception': False, 'exception_traceback': None, 'exception_message': None}}, {'success': False, 'expectation_config': {'type': 'expect_column_values_to_be_between', 'kwargs': {'batch_id': 'dit_dicox_dpflab_dds2_dev-ddsdltdb.prezzigiornalieriquartoorari', 'column': 'COMPONENTEINCENTIVANTE', 'min_value': 0.0}, 'meta': {'check_name': 'sapNac-ComponenteIncentivante-ExpectColumnValuesToBeBetween', 'data_product_name': 'sapNac'}}, 'result': {'element_count': 186, 'unexpected_count': 1, 'unexpected_percent': 0.5376344086021506, 'expectation_output_metric': None}, 'meta': {}, 'exception_info': {'raised_exception': False, 'exception_traceback': None, 'exception_message': None}}]\n"
     ]
    },
    {
     "name": "stderr",
     "output_type": "stream",
     "text": [
      "\n"
     ]
    }
   ],
   "source": [
    "validation_results = []\n",
    "for configuration in configurations:\n",
    "    dataframe = qualitysidecar_gx.retrieve_dataframe_from_configuration(configuration)\n",
    "    validation_results.append(qualitysidecar_gx.run_validations(configuration, dataframe))\n",
    "print(validation_results)"
   ]
  },
  {
   "cell_type": "code",
   "execution_count": 6,
   "id": "8040281b-58dd-4d9f-894e-f24ee9e30d33",
   "metadata": {
    "scrolled": true
   },
   "outputs": [
    {
     "name": "stdout",
     "output_type": "stream",
     "text": [
      "{\n",
      "    \"resource_metrics\": [\n",
      "        {\n",
      "            \"resource\": {\n",
      "                \"attributes\": {\n",
      "                    \"telemetry.sdk.language\": \"python\",\n",
      "                    \"telemetry.sdk.name\": \"opentelemetry\",\n",
      "                    \"telemetry.sdk.version\": \"1.31.1\",\n",
      "                    \"service.name\": \"sapNac-quality_sidecar\",\n",
      "                    \"telemetry.auto.version\": \"0.52b1\"\n",
      "                },\n",
      "                \"schema_url\": \"\"\n",
      "            },\n",
      "            \"scope_metrics\": [\n",
      "                {\n",
      "                    \"scope\": {\n",
      "                        \"name\": \"__main__\",\n",
      "                        \"version\": \"\",\n",
      "                        \"schema_url\": \"\",\n",
      "                        \"attributes\": null\n",
      "                    },\n",
      "                    \"metrics\": [\n",
      "                        {\n",
      "                            \"name\": \"sapnac\",\n",
      "                            \"description\": \"\",\n",
      "                            \"unit\": \"%\",\n",
      "                            \"data\": {\n",
      "                                \"data_points\": [\n",
      "                                    {\n",
      "                                        \"attributes\": {\n",
      "                                            \"signal_type\": \"DATA_QUALITY\",\n",
      "                                            \"checked_elements_nbr\": 192,\n",
      "                                            \"errors_nbr\": 0,\n",
      "                                            \"check_name\": \"sapNac-dit_dicox_dpflab_dds2_dev-ddsdltdb.segnogiornalieroquartoorario-PK-ExpectColumnValuesToNotBeNull\",\n",
      "                                            \"data_product_name\": \"sapNac\"\n",
      "                                        },\n",
      "                                        \"start_time_unix_nano\": null,\n",
      "                                        \"time_unix_nano\": 1742903240536790958,\n",
      "                                        \"value\": 100.0,\n",
      "                                        \"exemplars\": []\n",
      "                                    },\n",
      "                                    {\n",
      "                                        \"attributes\": {\n",
      "                                            \"signal_type\": \"DATA_QUALITY\",\n",
      "                                            \"checked_elements_nbr\": 192,\n",
      "                                            \"errors_nbr\": 0,\n",
      "                                            \"check_name\": \"sapNac-dit_dicox_dpflab_dds2_dev-ddsdltdb.segnogiornalieroquartoorario-Macrozona-ExpectColumnValuesToBeInSet\",\n",
      "                                            \"data_product_name\": \"sapNac\"\n",
      "                                        },\n",
      "                                        \"start_time_unix_nano\": null,\n",
      "                                        \"time_unix_nano\": 1742903240536790958,\n",
      "                                        \"value\": 100.0,\n",
      "                                        \"exemplars\": []\n",
      "                                    },\n",
      "                                    {\n",
      "                                        \"attributes\": {\n",
      "                                            \"signal_type\": \"DATA_QUALITY\",\n",
      "                                            \"checked_elements_nbr\": 192,\n",
      "                                            \"errors_nbr\": 25,\n",
      "                                            \"check_name\": \"sapNac-dit_dicox_dpflab_dds2_dev.ddsdltdb.segnogiornalieroquartoorario-ScambiMWh-ExpectColumnValuesToBeBetween\",\n",
      "                                            \"data_product_name\": \"sapNac\"\n",
      "                                        },\n",
      "                                        \"start_time_unix_nano\": null,\n",
      "                                        \"time_unix_nano\": 1742903240536790958,\n",
      "                                        \"value\": 86.97916666666667,\n",
      "                                        \"exemplars\": []\n",
      "                                    },\n",
      "                                    {\n",
      "                                        \"attributes\": {\n",
      "                                            \"signal_type\": \"DATA_QUALITY\",\n",
      "                                            \"checked_elements_nbr\": 192,\n",
      "                                            \"errors_nbr\": 192,\n",
      "                                            \"check_name\": \"sapNac-dit_dicox_dpflab_dds2_dev.ddsdltdb.segnogiornalieroquartoorario-DataDiRiferimento-ExpectColumnValuesToMatchRegex\",\n",
      "                                            \"data_product_name\": \"sapNac\"\n",
      "                                        },\n",
      "                                        \"start_time_unix_nano\": null,\n",
      "                                        \"time_unix_nano\": 1742903240536790958,\n",
      "                                        \"value\": 0.0,\n",
      "                                        \"exemplars\": []\n",
      "                                    },\n",
      "                                    {\n",
      "                                        \"attributes\": {\n",
      "                                            \"signal_type\": \"DATA_QUALITY\",\n",
      "                                            \"checked_elements_nbr\": 186,\n",
      "                                            \"errors_nbr\": 1,\n",
      "                                            \"check_name\": \"sapNac-PrezzoSbilanciamento-PrezzoBase-ExpectColumnPairValuesAToBeGreaterThanB\",\n",
      "                                            \"data_product_name\": \"sapNac\"\n",
      "                                        },\n",
      "                                        \"start_time_unix_nano\": null,\n",
      "                                        \"time_unix_nano\": 1742903240536790958,\n",
      "                                        \"value\": 99.46236559139786,\n",
      "                                        \"exemplars\": []\n",
      "                                    },\n",
      "                                    {\n",
      "                                        \"attributes\": {\n",
      "                                            \"signal_type\": \"DATA_QUALITY\",\n",
      "                                            \"checked_elements_nbr\": 186,\n",
      "                                            \"errors_nbr\": 1,\n",
      "                                            \"check_name\": \"sapNac-ComponenteIncentivante-ExpectColumnValuesToBeBetween\",\n",
      "                                            \"data_product_name\": \"sapNac\"\n",
      "                                        },\n",
      "                                        \"start_time_unix_nano\": null,\n",
      "                                        \"time_unix_nano\": 1742903240536790958,\n",
      "                                        \"value\": 99.46236559139786,\n",
      "                                        \"exemplars\": []\n",
      "                                    }\n",
      "                                ]\n",
      "                            }\n",
      "                        }\n",
      "                    ],\n",
      "                    \"schema_url\": \"\"\n",
      "                }\n",
      "            ],\n",
      "            \"schema_url\": \"\"\n",
      "        }\n",
      "    ]\n",
      "}\n",
      "\n"
     ]
    }
   ],
   "source": [
    "result = qualitysidecar_otlp.send_metric(validation_results)\n",
    "print(result)"
   ]
  },
  {
   "cell_type": "code",
   "execution_count": null,
   "id": "662d7093-8ffc-445f-8a54-93448150965b",
   "metadata": {},
   "outputs": [],
   "source": []
  }
 ],
 "metadata": {
  "kernelspec": {
   "display_name": "Python 3 (ipykernel)",
   "language": "python",
   "name": "python3"
  },
  "language_info": {
   "codemirror_mode": {
    "name": "ipython",
    "version": 3
   },
   "file_extension": ".py",
   "mimetype": "text/x-python",
   "name": "python",
   "nbconvert_exporter": "python",
   "pygments_lexer": "ipython3",
   "version": "3.11.6"
  }
 },
 "nbformat": 4,
 "nbformat_minor": 5
}
