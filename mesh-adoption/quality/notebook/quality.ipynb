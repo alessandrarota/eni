{
 "cells": [
  {
   "cell_type": "code",
   "execution_count": 1,
   "id": "87881bda-7340-409d-a530-e974e66edc5a",
   "metadata": {
    "scrolled": true
   },
   "outputs": [
    {
     "name": "stdout",
     "output_type": "stream",
     "text": [
      "Requirement already satisfied: great_expectations==1.3.5 in /opt/conda/lib/python3.11/site-packages (1.3.5)\n",
      "Requirement already satisfied: pyspark in /opt/conda/lib/python3.11/site-packages (3.5.4)\n",
      "Requirement already satisfied: pandas in /opt/conda/lib/python3.11/site-packages (2.1.4)\n",
      "Requirement already satisfied: opentelemetry-api in /opt/conda/lib/python3.11/site-packages (1.30.0)\n",
      "Requirement already satisfied: opentelemetry-distro in /opt/conda/lib/python3.11/site-packages (0.51b0)\n",
      "Requirement already satisfied: opentelemetry-exporter-otlp in /opt/conda/lib/python3.11/site-packages (1.30.0)\n",
      "Requirement already satisfied: altair<5.0.0,>=4.2.1 in /opt/conda/lib/python3.11/site-packages (from great_expectations==1.3.5) (4.2.2)\n",
      "Requirement already satisfied: cryptography>=3.2 in /opt/conda/lib/python3.11/site-packages (from great_expectations==1.3.5) (41.0.4)\n",
      "Requirement already satisfied: jinja2>=2.10 in /opt/conda/lib/python3.11/site-packages (from great_expectations==1.3.5) (3.1.2)\n",
      "Requirement already satisfied: jsonschema>=2.5.1 in /opt/conda/lib/python3.11/site-packages (from great_expectations==1.3.5) (4.19.1)\n",
      "Requirement already satisfied: marshmallow<4.0.0,>=3.7.1 in /opt/conda/lib/python3.11/site-packages (from great_expectations==1.3.5) (3.26.1)\n",
      "Requirement already satisfied: mistune>=0.8.4 in /opt/conda/lib/python3.11/site-packages (from great_expectations==1.3.5) (3.0.1)\n",
      "Requirement already satisfied: packaging in /opt/conda/lib/python3.11/site-packages (from great_expectations==1.3.5) (23.2)\n",
      "Requirement already satisfied: posthog<4,>3 in /opt/conda/lib/python3.11/site-packages (from great_expectations==1.3.5) (3.12.0)\n",
      "Requirement already satisfied: pydantic>=1.10.7 in /opt/conda/lib/python3.11/site-packages (from great_expectations==1.3.5) (2.10.6)\n",
      "Requirement already satisfied: pyparsing>=2.4 in /opt/conda/lib/python3.11/site-packages (from great_expectations==1.3.5) (3.2.1)\n",
      "Requirement already satisfied: python-dateutil>=2.8.1 in /opt/conda/lib/python3.11/site-packages (from great_expectations==1.3.5) (2.8.2)\n",
      "Requirement already satisfied: requests>=2.20 in /opt/conda/lib/python3.11/site-packages (from great_expectations==1.3.5) (2.31.0)\n",
      "Requirement already satisfied: ruamel.yaml>=0.16 in /opt/conda/lib/python3.11/site-packages (from great_expectations==1.3.5) (0.17.39)\n",
      "Requirement already satisfied: scipy>=1.6.0 in /opt/conda/lib/python3.11/site-packages (from great_expectations==1.3.5) (1.15.1)\n",
      "Requirement already satisfied: tqdm>=4.59.0 in /opt/conda/lib/python3.11/site-packages (from great_expectations==1.3.5) (4.66.1)\n",
      "Requirement already satisfied: typing-extensions>=4.1.0 in /opt/conda/lib/python3.11/site-packages (from great_expectations==1.3.5) (4.12.2)\n",
      "Requirement already satisfied: tzlocal>=1.2 in /opt/conda/lib/python3.11/site-packages (from great_expectations==1.3.5) (5.2)\n",
      "Requirement already satisfied: numpy>=1.22.4 in /opt/conda/lib/python3.11/site-packages (from great_expectations==1.3.5) (1.26.4)\n",
      "Requirement already satisfied: py4j==0.10.9.7 in /opt/conda/lib/python3.11/site-packages (from pyspark) (0.10.9.7)\n",
      "Requirement already satisfied: pytz>=2020.1 in /opt/conda/lib/python3.11/site-packages (from pandas) (2023.3.post1)\n",
      "Requirement already satisfied: tzdata>=2022.1 in /opt/conda/lib/python3.11/site-packages (from pandas) (2025.1)\n",
      "Requirement already satisfied: deprecated>=1.2.6 in /opt/conda/lib/python3.11/site-packages (from opentelemetry-api) (1.2.18)\n",
      "Requirement already satisfied: importlib-metadata<=8.5.0,>=6.0 in /opt/conda/lib/python3.11/site-packages (from opentelemetry-api) (6.8.0)\n",
      "Requirement already satisfied: opentelemetry-instrumentation==0.51b0 in /opt/conda/lib/python3.11/site-packages (from opentelemetry-distro) (0.51b0)\n",
      "Requirement already satisfied: opentelemetry-sdk~=1.13 in /opt/conda/lib/python3.11/site-packages (from opentelemetry-distro) (1.30.0)\n",
      "Requirement already satisfied: opentelemetry-semantic-conventions==0.51b0 in /opt/conda/lib/python3.11/site-packages (from opentelemetry-instrumentation==0.51b0->opentelemetry-distro) (0.51b0)\n",
      "Requirement already satisfied: wrapt<2.0.0,>=1.0.0 in /opt/conda/lib/python3.11/site-packages (from opentelemetry-instrumentation==0.51b0->opentelemetry-distro) (1.17.2)\n",
      "Requirement already satisfied: opentelemetry-exporter-otlp-proto-grpc==1.30.0 in /opt/conda/lib/python3.11/site-packages (from opentelemetry-exporter-otlp) (1.30.0)\n",
      "Requirement already satisfied: opentelemetry-exporter-otlp-proto-http==1.30.0 in /opt/conda/lib/python3.11/site-packages (from opentelemetry-exporter-otlp) (1.30.0)\n",
      "Requirement already satisfied: googleapis-common-protos~=1.52 in /opt/conda/lib/python3.11/site-packages (from opentelemetry-exporter-otlp-proto-grpc==1.30.0->opentelemetry-exporter-otlp) (1.66.0)\n",
      "Requirement already satisfied: grpcio<2.0.0,>=1.63.2 in /opt/conda/lib/python3.11/site-packages (from opentelemetry-exporter-otlp-proto-grpc==1.30.0->opentelemetry-exporter-otlp) (1.70.0)\n",
      "Requirement already satisfied: opentelemetry-exporter-otlp-proto-common==1.30.0 in /opt/conda/lib/python3.11/site-packages (from opentelemetry-exporter-otlp-proto-grpc==1.30.0->opentelemetry-exporter-otlp) (1.30.0)\n",
      "Requirement already satisfied: opentelemetry-proto==1.30.0 in /opt/conda/lib/python3.11/site-packages (from opentelemetry-exporter-otlp-proto-grpc==1.30.0->opentelemetry-exporter-otlp) (1.30.0)\n",
      "Requirement already satisfied: protobuf<6.0,>=5.0 in /opt/conda/lib/python3.11/site-packages (from opentelemetry-proto==1.30.0->opentelemetry-exporter-otlp-proto-grpc==1.30.0->opentelemetry-exporter-otlp) (5.29.3)\n",
      "Requirement already satisfied: entrypoints in /opt/conda/lib/python3.11/site-packages (from altair<5.0.0,>=4.2.1->great_expectations==1.3.5) (0.4)\n",
      "Requirement already satisfied: toolz in /opt/conda/lib/python3.11/site-packages (from altair<5.0.0,>=4.2.1->great_expectations==1.3.5) (1.0.0)\n",
      "Requirement already satisfied: cffi>=1.12 in /opt/conda/lib/python3.11/site-packages (from cryptography>=3.2->great_expectations==1.3.5) (1.16.0)\n",
      "Requirement already satisfied: zipp>=0.5 in /opt/conda/lib/python3.11/site-packages (from importlib-metadata<=8.5.0,>=6.0->opentelemetry-api) (3.17.0)\n",
      "Requirement already satisfied: MarkupSafe>=2.0 in /opt/conda/lib/python3.11/site-packages (from jinja2>=2.10->great_expectations==1.3.5) (2.1.3)\n",
      "Requirement already satisfied: attrs>=22.2.0 in /opt/conda/lib/python3.11/site-packages (from jsonschema>=2.5.1->great_expectations==1.3.5) (23.1.0)\n",
      "Requirement already satisfied: jsonschema-specifications>=2023.03.6 in /opt/conda/lib/python3.11/site-packages (from jsonschema>=2.5.1->great_expectations==1.3.5) (2023.7.1)\n",
      "Requirement already satisfied: referencing>=0.28.4 in /opt/conda/lib/python3.11/site-packages (from jsonschema>=2.5.1->great_expectations==1.3.5) (0.30.2)\n",
      "Requirement already satisfied: rpds-py>=0.7.1 in /opt/conda/lib/python3.11/site-packages (from jsonschema>=2.5.1->great_expectations==1.3.5) (0.10.6)\n",
      "Requirement already satisfied: six>=1.5 in /opt/conda/lib/python3.11/site-packages (from posthog<4,>3->great_expectations==1.3.5) (1.16.0)\n",
      "Requirement already satisfied: monotonic>=1.5 in /opt/conda/lib/python3.11/site-packages (from posthog<4,>3->great_expectations==1.3.5) (1.6)\n",
      "Requirement already satisfied: backoff>=1.10.0 in /opt/conda/lib/python3.11/site-packages (from posthog<4,>3->great_expectations==1.3.5) (2.2.1)\n",
      "Requirement already satisfied: annotated-types>=0.6.0 in /opt/conda/lib/python3.11/site-packages (from pydantic>=1.10.7->great_expectations==1.3.5) (0.7.0)\n",
      "Requirement already satisfied: pydantic-core==2.27.2 in /opt/conda/lib/python3.11/site-packages (from pydantic>=1.10.7->great_expectations==1.3.5) (2.27.2)\n",
      "Requirement already satisfied: charset-normalizer<4,>=2 in /opt/conda/lib/python3.11/site-packages (from requests>=2.20->great_expectations==1.3.5) (3.3.0)\n",
      "Requirement already satisfied: idna<4,>=2.5 in /opt/conda/lib/python3.11/site-packages (from requests>=2.20->great_expectations==1.3.5) (3.4)\n",
      "Requirement already satisfied: urllib3<3,>=1.21.1 in /opt/conda/lib/python3.11/site-packages (from requests>=2.20->great_expectations==1.3.5) (2.0.7)\n",
      "Requirement already satisfied: certifi>=2017.4.17 in /opt/conda/lib/python3.11/site-packages (from requests>=2.20->great_expectations==1.3.5) (2023.7.22)\n",
      "Requirement already satisfied: ruamel.yaml.clib>=0.2.7 in /opt/conda/lib/python3.11/site-packages (from ruamel.yaml>=0.16->great_expectations==1.3.5) (0.2.7)\n",
      "Requirement already satisfied: pycparser in /opt/conda/lib/python3.11/site-packages (from cffi>=1.12->cryptography>=3.2->great_expectations==1.3.5) (2.21)\n",
      "Requirement already satisfied: opentelemetry-semantic-conventions in /opt/conda/lib/python3.11/site-packages (0.51b0)\n",
      "Requirement already satisfied: opentelemetry-util-http in /opt/conda/lib/python3.11/site-packages (0.51b0)\n",
      "Requirement already satisfied: wrapt in /opt/conda/lib/python3.11/site-packages (1.17.2)\n",
      "Requirement already satisfied: opentelemetry-exporter-otlp-proto-http in /opt/conda/lib/python3.11/site-packages (1.30.0)\n",
      "Requirement already satisfied: deprecated>=1.2.6 in /opt/conda/lib/python3.11/site-packages (from opentelemetry-semantic-conventions) (1.2.18)\n",
      "Requirement already satisfied: opentelemetry-api==1.30.0 in /opt/conda/lib/python3.11/site-packages (from opentelemetry-semantic-conventions) (1.30.0)\n",
      "Requirement already satisfied: importlib-metadata<=8.5.0,>=6.0 in /opt/conda/lib/python3.11/site-packages (from opentelemetry-api==1.30.0->opentelemetry-semantic-conventions) (6.8.0)\n",
      "Requirement already satisfied: googleapis-common-protos~=1.52 in /opt/conda/lib/python3.11/site-packages (from opentelemetry-exporter-otlp-proto-http) (1.66.0)\n",
      "Requirement already satisfied: opentelemetry-exporter-otlp-proto-common==1.30.0 in /opt/conda/lib/python3.11/site-packages (from opentelemetry-exporter-otlp-proto-http) (1.30.0)\n",
      "Requirement already satisfied: opentelemetry-proto==1.30.0 in /opt/conda/lib/python3.11/site-packages (from opentelemetry-exporter-otlp-proto-http) (1.30.0)\n",
      "Requirement already satisfied: opentelemetry-sdk~=1.30.0 in /opt/conda/lib/python3.11/site-packages (from opentelemetry-exporter-otlp-proto-http) (1.30.0)\n",
      "Requirement already satisfied: requests~=2.7 in /opt/conda/lib/python3.11/site-packages (from opentelemetry-exporter-otlp-proto-http) (2.31.0)\n",
      "Requirement already satisfied: protobuf<6.0,>=5.0 in /opt/conda/lib/python3.11/site-packages (from opentelemetry-proto==1.30.0->opentelemetry-exporter-otlp-proto-http) (5.29.3)\n",
      "Requirement already satisfied: typing-extensions>=3.7.4 in /opt/conda/lib/python3.11/site-packages (from opentelemetry-sdk~=1.30.0->opentelemetry-exporter-otlp-proto-http) (4.12.2)\n",
      "Requirement already satisfied: charset-normalizer<4,>=2 in /opt/conda/lib/python3.11/site-packages (from requests~=2.7->opentelemetry-exporter-otlp-proto-http) (3.3.0)\n",
      "Requirement already satisfied: idna<4,>=2.5 in /opt/conda/lib/python3.11/site-packages (from requests~=2.7->opentelemetry-exporter-otlp-proto-http) (3.4)\n",
      "Requirement already satisfied: urllib3<3,>=1.21.1 in /opt/conda/lib/python3.11/site-packages (from requests~=2.7->opentelemetry-exporter-otlp-proto-http) (2.0.7)\n",
      "Requirement already satisfied: certifi>=2017.4.17 in /opt/conda/lib/python3.11/site-packages (from requests~=2.7->opentelemetry-exporter-otlp-proto-http) (2023.7.22)\n",
      "Requirement already satisfied: zipp>=0.5 in /opt/conda/lib/python3.11/site-packages (from importlib-metadata<=8.5.0,>=6.0->opentelemetry-api==1.30.0->opentelemetry-semantic-conventions) (3.17.0)\n"
     ]
    }
   ],
   "source": [
    "!pip install great_expectations==1.3.5 pyspark pandas opentelemetry-api opentelemetry-distro opentelemetry-exporter-otlp #opentelemetry-exporter-otlp-proto-grpc  \n",
    "!pip install opentelemetry-semantic-conventions opentelemetry-util-http wrapt opentelemetry-exporter-otlp-proto-http"
   ]
  },
  {
   "cell_type": "code",
   "execution_count": 1,
   "id": "24542ccb-08ee-4294-9432-2d0f31e14c13",
   "metadata": {},
   "outputs": [],
   "source": [
    "# imports. DO NOT REMOVE!\n",
    "import os, subprocess, time, json, shlex\n",
    "from quality_sidecar.gx.data_quality_gx import validate_data_quality"
   ]
  },
  {
   "cell_type": "code",
   "execution_count": 2,
   "id": "2fd3f7f4-c382-4564-98b8-da5b85357d6e",
   "metadata": {},
   "outputs": [],
   "source": [
    "DATA_PRODUCT_NAME = 'consuntiviDiProduzione'\n",
    "EXPECTATIONS_JSON_FILE_PATH = 'resources/csv_v0.1.json'"
   ]
  },
  {
   "cell_type": "code",
   "execution_count": 3,
   "id": "0ca2f6a9-042a-429e-a438-b4ad06d94900",
   "metadata": {
    "scrolled": true
   },
   "outputs": [],
   "source": [
    "# OTLP variables. DO NOT REMOVE!\n",
    "os.environ['OTEL_EXPORTER_OTLP_ENDPOINT'] = 'http://platform-collector:4318'\n",
    "os.environ['OTEL_EXPORTER_OTLP_PROTOCOL'] = \"http/protobuf\"\n",
    "os.environ['OTEL_SERVICE_NAME'] = f'{os.getenv(\"DATA_PRODUCT_NAME\")}-quality_sidecar'"
   ]
  },
  {
   "cell_type": "code",
   "execution_count": 4,
   "id": "6a150f15-4437-400d-89bb-b337f96746e1",
   "metadata": {},
   "outputs": [
    {
     "name": "stderr",
     "output_type": "stream",
     "text": [
      "INFO:root:Reading the JSON configuration file...\n",
      "INFO:root:Configuring Expectations and running Validations...\n",
      "INFO:great_expectations.data_context.types.base:Created temporary directory '/tmp/tmp5cgq5iqi' for ephemeral docs site\n",
      "INFO:root:Created new connector for ('CSV', 'dataSourceSample', 'dataAssetSample')\n",
      "INFO:root:Expectation instance created: id=None meta={'check_name': 'DataSourceSample_DataAssetSample_VendorId-ToNotBeNull', 'data_product_name': 'consuntiviDiProduzione'} notes=None result_format=<ResultFormat.BASIC: 'BASIC'> description=None catch_exceptions=True rendered_content=None windows=None batch_id=None column='vendor_id' mostly=1 row_condition=None condition_parser=None\n",
      "Calculating Metrics: 100%|██████████| 8/8 [00:00<00:00, 193.28it/s] \n",
      "INFO:root:Reusing connector for ('CSV', 'dataSourceSample', 'dataAssetSample')\n",
      "INFO:root:Expectation instance created: id=None meta={'check_name': 'DataSourceSample_DataAssetSample_PassengerCount-ToBeBetween0And4', 'data_product_name': 'consuntiviDiProduzione'} notes=None result_format=<ResultFormat.BASIC: 'BASIC'> description=None catch_exceptions=True rendered_content=None windows=None batch_id=None column='passenger_count' mostly=1 row_condition=None condition_parser=None min_value=0.0 max_value=4.0 strict_min=False strict_max=False\n",
      "Calculating Metrics: 100%|██████████| 10/10 [00:00<00:00, 201.97it/s]\n",
      "INFO:root:Reusing connector for ('CSV', 'dataSourceSample', 'dataAssetSample')\n",
      "INFO:root:Expectation instance created: id=None meta={'check_name': 'DataSourceSample_DataAssetSample_PickupDatetime-ToMatchRegex', 'data_product_name': 'consuntiviDiProduzione'} notes=None result_format=<ResultFormat.BASIC: 'BASIC'> description=None catch_exceptions=True rendered_content=None windows=None batch_id=None column='pickup_datetime' mostly=1 row_condition=None condition_parser=None regex='^\\\\d{4}-(0[1-9]|1[0-2])-(0[1-9]|[12][0-9]|3[01])\\\\s([01]\\\\d|2[0-3]):([0-5]\\\\d):([0-5]\\\\d)$'\n",
      "Calculating Metrics:  30%|███       | 3/10 [00:00<00:00, 170.76it/s] /opt/conda/lib/python3.11/site-packages/great_expectations/expectations/metrics/column_map_metrics/column_values_match_regex.py:25: UserWarning: This pattern is interpreted as a regular expression, and has match groups. To actually get the groups, use str.extract.\n",
      "  return column.astype(str).str.contains(regex)\n",
      "Calculating Metrics: 100%|██████████| 10/10 [00:00<00:00, 184.07it/s]\n",
      "INFO:root:Validation Results created!\n"
     ]
    },
    {
     "name": "stdout",
     "output_type": "stream",
     "text": [
      "[{'success': True, 'expectation_config': {'type': 'expect_column_values_to_not_be_null', 'kwargs': {'batch_id': 'dataSourceSample-dataAssetSample', 'column': 'vendor_id'}, 'meta': {'check_name': 'DataSourceSample_DataAssetSample_VendorId-ToNotBeNull', 'data_product_name': 'consuntiviDiProduzione'}}, 'result': {'element_count': 10000, 'unexpected_count': 0, 'unexpected_percent': 0.0, 'partial_unexpected_list': [], 'partial_unexpected_counts': [], 'partial_unexpected_index_list': []}, 'meta': {}, 'exception_info': {'raised_exception': False, 'exception_traceback': None, 'exception_message': None}}, {'success': False, 'expectation_config': {'type': 'expect_column_values_to_be_between', 'kwargs': {'batch_id': 'dataSourceSample-dataAssetSample', 'column': 'passenger_count', 'min_value': 0.0, 'max_value': 4.0}, 'meta': {'check_name': 'DataSourceSample_DataAssetSample_PassengerCount-ToBeBetween0And4', 'data_product_name': 'consuntiviDiProduzione'}}, 'result': {'element_count': 10000, 'unexpected_count': 667, 'unexpected_percent': 6.67, 'partial_unexpected_list': [5, 5, 5, 5, 5, 5, 5, 5, 5, 5, 5, 5, 5, 5, 5, 5, 5, 5, 5, 5], 'missing_count': 0, 'missing_percent': 0.0, 'unexpected_percent_total': 6.67, 'unexpected_percent_nonmissing': 6.67, 'partial_unexpected_counts': [{'value': 5, 'count': 20}], 'partial_unexpected_index_list': [9333, 9334, 9335, 9336, 9337, 9338, 9339, 9340, 9341, 9342, 9343, 9344, 9345, 9346, 9347, 9348, 9349, 9350, 9351, 9352]}, 'meta': {}, 'exception_info': {'raised_exception': False, 'exception_traceback': None, 'exception_message': None}}, {'success': True, 'expectation_config': {'type': 'expect_column_values_to_match_regex', 'kwargs': {'batch_id': 'dataSourceSample-dataAssetSample', 'column': 'pickup_datetime', 'regex': '^\\\\d{4}-(0[1-9]|1[0-2])-(0[1-9]|[12][0-9]|3[01])\\\\s([01]\\\\d|2[0-3]):([0-5]\\\\d):([0-5]\\\\d)$'}, 'meta': {'check_name': 'DataSourceSample_DataAssetSample_PickupDatetime-ToMatchRegex', 'data_product_name': 'consuntiviDiProduzione'}}, 'result': {'element_count': 10000, 'unexpected_count': 0, 'unexpected_percent': 0.0, 'partial_unexpected_list': [], 'missing_count': 0, 'missing_percent': 0.0, 'unexpected_percent_total': 0.0, 'unexpected_percent_nonmissing': 0.0, 'partial_unexpected_counts': [], 'partial_unexpected_index_list': []}, 'meta': {}, 'exception_info': {'raised_exception': False, 'exception_traceback': None, 'exception_message': None}}]\n"
     ]
    }
   ],
   "source": [
    "# GX module\n",
    "validation_results = validate_data_quality(EXPECTATIONS_JSON_FILE_PATH, DATA_PRODUCT_NAME)\n",
    "print(validation_results)"
   ]
  },
  {
   "cell_type": "code",
   "execution_count": 5,
   "id": "311be620-ee15-46bd-95c2-1cd124061b60",
   "metadata": {
    "scrolled": true
   },
   "outputs": [
    {
     "name": "stdout",
     "output_type": "stream",
     "text": [
      "{\n",
      "    \"resource_metrics\": [\n",
      "        {\n",
      "            \"resource\": {\n",
      "                \"attributes\": {\n",
      "                    \"telemetry.sdk.language\": \"python\",\n",
      "                    \"telemetry.sdk.name\": \"opentelemetry\",\n",
      "                    \"telemetry.sdk.version\": \"1.30.0\",\n",
      "                    \"service.name\": \"None-quality_sidecar\",\n",
      "                    \"telemetry.auto.version\": \"0.51b0\"\n",
      "                },\n",
      "                \"schema_url\": \"\"\n",
      "            },\n",
      "            \"scope_metrics\": [\n",
      "                {\n",
      "                    \"scope\": {\n",
      "                        \"name\": \"__main__\",\n",
      "                        \"version\": \"\",\n",
      "                        \"schema_url\": \"\",\n",
      "                        \"attributes\": null\n",
      "                    },\n",
      "                    \"metrics\": [\n",
      "                        {\n",
      "                            \"name\": \"consuntividiproduzione\",\n",
      "                            \"description\": \"\",\n",
      "                            \"unit\": \"%\",\n",
      "                            \"data\": {\n",
      "                                \"data_points\": [\n",
      "                                    {\n",
      "                                        \"attributes\": {\n",
      "                                            \"signal_type\": \"DATA_QUALITY\",\n",
      "                                            \"checked_elements_nbr\": 10000,\n",
      "                                            \"errors_nbr\": 0,\n",
      "                                            \"check_name\": \"DataSourceSample_DataAssetSample_VendorId-ToNotBeNull\",\n",
      "                                            \"data_product_name\": \"consuntiviDiProduzione\"\n",
      "                                        },\n",
      "                                        \"start_time_unix_nano\": null,\n",
      "                                        \"time_unix_nano\": 1739265036049225798,\n",
      "                                        \"value\": 100.0,\n",
      "                                        \"exemplars\": []\n",
      "                                    },\n",
      "                                    {\n",
      "                                        \"attributes\": {\n",
      "                                            \"signal_type\": \"DATA_QUALITY\",\n",
      "                                            \"checked_elements_nbr\": 10000,\n",
      "                                            \"errors_nbr\": 667,\n",
      "                                            \"check_name\": \"DataSourceSample_DataAssetSample_PassengerCount-ToBeBetween0And4\",\n",
      "                                            \"data_product_name\": \"consuntiviDiProduzione\"\n",
      "                                        },\n",
      "                                        \"start_time_unix_nano\": null,\n",
      "                                        \"time_unix_nano\": 1739265036049225798,\n",
      "                                        \"value\": 93.33,\n",
      "                                        \"exemplars\": []\n",
      "                                    },\n",
      "                                    {\n",
      "                                        \"attributes\": {\n",
      "                                            \"signal_type\": \"DATA_QUALITY\",\n",
      "                                            \"checked_elements_nbr\": 10000,\n",
      "                                            \"errors_nbr\": 0,\n",
      "                                            \"check_name\": \"DataSourceSample_DataAssetSample_PickupDatetime-ToMatchRegex\",\n",
      "                                            \"data_product_name\": \"consuntiviDiProduzione\"\n",
      "                                        },\n",
      "                                        \"start_time_unix_nano\": null,\n",
      "                                        \"time_unix_nano\": 1739265036049225798,\n",
      "                                        \"value\": 100.0,\n",
      "                                        \"exemplars\": []\n",
      "                                    }\n",
      "                                ]\n",
      "                            }\n",
      "                        }\n",
      "                    ],\n",
      "                    \"schema_url\": \"\"\n",
      "                }\n",
      "            ],\n",
      "            \"schema_url\": \"\"\n",
      "        }\n",
      "    ]\n",
      "}\n",
      "\n",
      "INFO:root:Creating OTLP Metric...\n",
      "INFO:root:OTLP metric created!\n",
      "INFO:root:Observations created!\n",
      "\n"
     ]
    }
   ],
   "source": [
    "# OTLP module\n",
    "command = f\"opentelemetry-instrument --metrics_exporter otlp,console --logs_exporter otlp,console python -m quality_sidecar.otlp.data_quality_otlp {shlex.quote(json.dumps(validation_results))} \\\"{DATA_PRODUCT_NAME}\\\"\"\n",
    "result = subprocess.run(command, shell=True, check=True, stdout=subprocess.PIPE, stderr=subprocess.PIPE)\n",
    "print(result.stdout.decode())\n",
    "print(result.stderr.decode())"
   ]
  },
  {
   "cell_type": "code",
   "execution_count": null,
   "id": "0c43ea96-cbd1-44b1-8ff6-957ca00d65c1",
   "metadata": {},
   "outputs": [],
   "source": []
  }
 ],
 "metadata": {
  "kernelspec": {
   "display_name": "Python 3 (ipykernel)",
   "language": "python",
   "name": "python3"
  },
  "language_info": {
   "codemirror_mode": {
    "name": "ipython",
    "version": 3
   },
   "file_extension": ".py",
   "mimetype": "text/x-python",
   "name": "python",
   "nbconvert_exporter": "python",
   "pygments_lexer": "ipython3",
   "version": "3.11.6"
  }
 },
 "nbformat": 4,
 "nbformat_minor": 5
}
