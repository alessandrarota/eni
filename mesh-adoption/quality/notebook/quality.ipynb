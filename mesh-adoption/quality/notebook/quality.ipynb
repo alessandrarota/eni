{
 "cells": [
  {
   "cell_type": "code",
   "execution_count": 1,
   "id": "87881bda-7340-409d-a530-e974e66edc5a",
   "metadata": {
    "scrolled": true
   },
   "outputs": [
    {
     "name": "stdout",
     "output_type": "stream",
     "text": [
      "Requirement already satisfied: great_expectations==1.3.0 in /opt/conda/lib/python3.11/site-packages (1.3.0)\n",
      "Requirement already satisfied: pandas in /opt/conda/lib/python3.11/site-packages (2.1.4)\n",
      "Requirement already satisfied: opentelemetry-api in /opt/conda/lib/python3.11/site-packages (1.29.0)\n",
      "Requirement already satisfied: opentelemetry-distro in /opt/conda/lib/python3.11/site-packages (0.50b0)\n",
      "Requirement already satisfied: opentelemetry-exporter-otlp in /opt/conda/lib/python3.11/site-packages (1.29.0)\n",
      "Requirement already satisfied: altair<5.0.0,>=4.2.1 in /opt/conda/lib/python3.11/site-packages (from great_expectations==1.3.0) (4.2.2)\n",
      "Requirement already satisfied: cryptography>=3.2 in /opt/conda/lib/python3.11/site-packages (from great_expectations==1.3.0) (41.0.4)\n",
      "Requirement already satisfied: jinja2>=2.10 in /opt/conda/lib/python3.11/site-packages (from great_expectations==1.3.0) (3.1.2)\n",
      "Requirement already satisfied: jsonschema>=2.5.1 in /opt/conda/lib/python3.11/site-packages (from great_expectations==1.3.0) (4.19.1)\n",
      "Requirement already satisfied: marshmallow<4.0.0,>=3.7.1 in /opt/conda/lib/python3.11/site-packages (from great_expectations==1.3.0) (3.26.0)\n",
      "Requirement already satisfied: mistune>=0.8.4 in /opt/conda/lib/python3.11/site-packages (from great_expectations==1.3.0) (3.0.1)\n",
      "Requirement already satisfied: packaging in /opt/conda/lib/python3.11/site-packages (from great_expectations==1.3.0) (23.2)\n",
      "Requirement already satisfied: posthog<3,>=2.1.0 in /opt/conda/lib/python3.11/site-packages (from great_expectations==1.3.0) (2.5.0)\n",
      "Requirement already satisfied: pydantic>=1.10.7 in /opt/conda/lib/python3.11/site-packages (from great_expectations==1.3.0) (2.10.6)\n",
      "Requirement already satisfied: pyparsing>=2.4 in /opt/conda/lib/python3.11/site-packages (from great_expectations==1.3.0) (3.2.1)\n",
      "Requirement already satisfied: python-dateutil>=2.8.1 in /opt/conda/lib/python3.11/site-packages (from great_expectations==1.3.0) (2.8.2)\n",
      "Requirement already satisfied: requests>=2.20 in /opt/conda/lib/python3.11/site-packages (from great_expectations==1.3.0) (2.31.0)\n",
      "Requirement already satisfied: ruamel.yaml>=0.16 in /opt/conda/lib/python3.11/site-packages (from great_expectations==1.3.0) (0.17.39)\n",
      "Requirement already satisfied: scipy>=1.6.0 in /opt/conda/lib/python3.11/site-packages (from great_expectations==1.3.0) (1.15.1)\n",
      "Requirement already satisfied: tqdm>=4.59.0 in /opt/conda/lib/python3.11/site-packages (from great_expectations==1.3.0) (4.66.1)\n",
      "Requirement already satisfied: typing-extensions>=4.1.0 in /opt/conda/lib/python3.11/site-packages (from great_expectations==1.3.0) (4.12.2)\n",
      "Requirement already satisfied: tzlocal>=1.2 in /opt/conda/lib/python3.11/site-packages (from great_expectations==1.3.0) (5.2)\n",
      "Requirement already satisfied: numpy>=1.22.4 in /opt/conda/lib/python3.11/site-packages (from great_expectations==1.3.0) (1.26.4)\n",
      "Requirement already satisfied: pytz>=2020.1 in /opt/conda/lib/python3.11/site-packages (from pandas) (2023.3.post1)\n",
      "Requirement already satisfied: tzdata>=2022.1 in /opt/conda/lib/python3.11/site-packages (from pandas) (2025.1)\n",
      "Requirement already satisfied: deprecated>=1.2.6 in /opt/conda/lib/python3.11/site-packages (from opentelemetry-api) (1.2.18)\n",
      "Requirement already satisfied: importlib-metadata<=8.5.0,>=6.0 in /opt/conda/lib/python3.11/site-packages (from opentelemetry-api) (6.8.0)\n",
      "Requirement already satisfied: opentelemetry-instrumentation==0.50b0 in /opt/conda/lib/python3.11/site-packages (from opentelemetry-distro) (0.50b0)\n",
      "Requirement already satisfied: opentelemetry-sdk~=1.13 in /opt/conda/lib/python3.11/site-packages (from opentelemetry-distro) (1.29.0)\n",
      "Requirement already satisfied: opentelemetry-semantic-conventions==0.50b0 in /opt/conda/lib/python3.11/site-packages (from opentelemetry-instrumentation==0.50b0->opentelemetry-distro) (0.50b0)\n",
      "Requirement already satisfied: wrapt<2.0.0,>=1.0.0 in /opt/conda/lib/python3.11/site-packages (from opentelemetry-instrumentation==0.50b0->opentelemetry-distro) (1.17.2)\n",
      "Requirement already satisfied: opentelemetry-exporter-otlp-proto-grpc==1.29.0 in /opt/conda/lib/python3.11/site-packages (from opentelemetry-exporter-otlp) (1.29.0)\n",
      "Requirement already satisfied: opentelemetry-exporter-otlp-proto-http==1.29.0 in /opt/conda/lib/python3.11/site-packages (from opentelemetry-exporter-otlp) (1.29.0)\n",
      "Requirement already satisfied: googleapis-common-protos~=1.52 in /opt/conda/lib/python3.11/site-packages (from opentelemetry-exporter-otlp-proto-grpc==1.29.0->opentelemetry-exporter-otlp) (1.66.0)\n",
      "Requirement already satisfied: grpcio<2.0.0,>=1.63.2 in /opt/conda/lib/python3.11/site-packages (from opentelemetry-exporter-otlp-proto-grpc==1.29.0->opentelemetry-exporter-otlp) (1.70.0)\n",
      "Requirement already satisfied: opentelemetry-exporter-otlp-proto-common==1.29.0 in /opt/conda/lib/python3.11/site-packages (from opentelemetry-exporter-otlp-proto-grpc==1.29.0->opentelemetry-exporter-otlp) (1.29.0)\n",
      "Requirement already satisfied: opentelemetry-proto==1.29.0 in /opt/conda/lib/python3.11/site-packages (from opentelemetry-exporter-otlp-proto-grpc==1.29.0->opentelemetry-exporter-otlp) (1.29.0)\n",
      "Requirement already satisfied: protobuf<6.0,>=5.0 in /opt/conda/lib/python3.11/site-packages (from opentelemetry-proto==1.29.0->opentelemetry-exporter-otlp-proto-grpc==1.29.0->opentelemetry-exporter-otlp) (5.29.3)\n",
      "Requirement already satisfied: entrypoints in /opt/conda/lib/python3.11/site-packages (from altair<5.0.0,>=4.2.1->great_expectations==1.3.0) (0.4)\n",
      "Requirement already satisfied: toolz in /opt/conda/lib/python3.11/site-packages (from altair<5.0.0,>=4.2.1->great_expectations==1.3.0) (1.0.0)\n",
      "Requirement already satisfied: cffi>=1.12 in /opt/conda/lib/python3.11/site-packages (from cryptography>=3.2->great_expectations==1.3.0) (1.16.0)\n",
      "Requirement already satisfied: zipp>=0.5 in /opt/conda/lib/python3.11/site-packages (from importlib-metadata<=8.5.0,>=6.0->opentelemetry-api) (3.17.0)\n",
      "Requirement already satisfied: MarkupSafe>=2.0 in /opt/conda/lib/python3.11/site-packages (from jinja2>=2.10->great_expectations==1.3.0) (2.1.3)\n",
      "Requirement already satisfied: attrs>=22.2.0 in /opt/conda/lib/python3.11/site-packages (from jsonschema>=2.5.1->great_expectations==1.3.0) (23.1.0)\n",
      "Requirement already satisfied: jsonschema-specifications>=2023.03.6 in /opt/conda/lib/python3.11/site-packages (from jsonschema>=2.5.1->great_expectations==1.3.0) (2023.7.1)\n",
      "Requirement already satisfied: referencing>=0.28.4 in /opt/conda/lib/python3.11/site-packages (from jsonschema>=2.5.1->great_expectations==1.3.0) (0.30.2)\n",
      "Requirement already satisfied: rpds-py>=0.7.1 in /opt/conda/lib/python3.11/site-packages (from jsonschema>=2.5.1->great_expectations==1.3.0) (0.10.6)\n",
      "Requirement already satisfied: six>=1.5 in /opt/conda/lib/python3.11/site-packages (from posthog<3,>=2.1.0->great_expectations==1.3.0) (1.16.0)\n",
      "Requirement already satisfied: monotonic>=1.5 in /opt/conda/lib/python3.11/site-packages (from posthog<3,>=2.1.0->great_expectations==1.3.0) (1.6)\n",
      "Requirement already satisfied: backoff>=1.10.0 in /opt/conda/lib/python3.11/site-packages (from posthog<3,>=2.1.0->great_expectations==1.3.0) (2.2.1)\n",
      "Requirement already satisfied: annotated-types>=0.6.0 in /opt/conda/lib/python3.11/site-packages (from pydantic>=1.10.7->great_expectations==1.3.0) (0.7.0)\n",
      "Requirement already satisfied: pydantic-core==2.27.2 in /opt/conda/lib/python3.11/site-packages (from pydantic>=1.10.7->great_expectations==1.3.0) (2.27.2)\n",
      "Requirement already satisfied: charset-normalizer<4,>=2 in /opt/conda/lib/python3.11/site-packages (from requests>=2.20->great_expectations==1.3.0) (3.3.0)\n",
      "Requirement already satisfied: idna<4,>=2.5 in /opt/conda/lib/python3.11/site-packages (from requests>=2.20->great_expectations==1.3.0) (3.4)\n",
      "Requirement already satisfied: urllib3<3,>=1.21.1 in /opt/conda/lib/python3.11/site-packages (from requests>=2.20->great_expectations==1.3.0) (2.0.7)\n",
      "Requirement already satisfied: certifi>=2017.4.17 in /opt/conda/lib/python3.11/site-packages (from requests>=2.20->great_expectations==1.3.0) (2023.7.22)\n",
      "Requirement already satisfied: ruamel.yaml.clib>=0.2.7 in /opt/conda/lib/python3.11/site-packages (from ruamel.yaml>=0.16->great_expectations==1.3.0) (0.2.7)\n",
      "Requirement already satisfied: pycparser in /opt/conda/lib/python3.11/site-packages (from cffi>=1.12->cryptography>=3.2->great_expectations==1.3.0) (2.21)\n",
      "Requirement already satisfied: opentelemetry-semantic-conventions in /opt/conda/lib/python3.11/site-packages (0.50b0)\n",
      "Requirement already satisfied: opentelemetry-util-http in /opt/conda/lib/python3.11/site-packages (0.50b0)\n",
      "Requirement already satisfied: wrapt in /opt/conda/lib/python3.11/site-packages (1.17.2)\n",
      "Requirement already satisfied: opentelemetry-exporter-otlp-proto-http in /opt/conda/lib/python3.11/site-packages (1.29.0)\n",
      "Requirement already satisfied: deprecated>=1.2.6 in /opt/conda/lib/python3.11/site-packages (from opentelemetry-semantic-conventions) (1.2.18)\n",
      "Requirement already satisfied: opentelemetry-api==1.29.0 in /opt/conda/lib/python3.11/site-packages (from opentelemetry-semantic-conventions) (1.29.0)\n",
      "Requirement already satisfied: importlib-metadata<=8.5.0,>=6.0 in /opt/conda/lib/python3.11/site-packages (from opentelemetry-api==1.29.0->opentelemetry-semantic-conventions) (6.8.0)\n",
      "Requirement already satisfied: googleapis-common-protos~=1.52 in /opt/conda/lib/python3.11/site-packages (from opentelemetry-exporter-otlp-proto-http) (1.66.0)\n",
      "Requirement already satisfied: opentelemetry-exporter-otlp-proto-common==1.29.0 in /opt/conda/lib/python3.11/site-packages (from opentelemetry-exporter-otlp-proto-http) (1.29.0)\n",
      "Requirement already satisfied: opentelemetry-proto==1.29.0 in /opt/conda/lib/python3.11/site-packages (from opentelemetry-exporter-otlp-proto-http) (1.29.0)\n",
      "Requirement already satisfied: opentelemetry-sdk~=1.29.0 in /opt/conda/lib/python3.11/site-packages (from opentelemetry-exporter-otlp-proto-http) (1.29.0)\n",
      "Requirement already satisfied: requests~=2.7 in /opt/conda/lib/python3.11/site-packages (from opentelemetry-exporter-otlp-proto-http) (2.31.0)\n",
      "Requirement already satisfied: protobuf<6.0,>=5.0 in /opt/conda/lib/python3.11/site-packages (from opentelemetry-proto==1.29.0->opentelemetry-exporter-otlp-proto-http) (5.29.3)\n",
      "Requirement already satisfied: typing-extensions>=3.7.4 in /opt/conda/lib/python3.11/site-packages (from opentelemetry-sdk~=1.29.0->opentelemetry-exporter-otlp-proto-http) (4.12.2)\n",
      "Requirement already satisfied: charset-normalizer<4,>=2 in /opt/conda/lib/python3.11/site-packages (from requests~=2.7->opentelemetry-exporter-otlp-proto-http) (3.3.0)\n",
      "Requirement already satisfied: idna<4,>=2.5 in /opt/conda/lib/python3.11/site-packages (from requests~=2.7->opentelemetry-exporter-otlp-proto-http) (3.4)\n",
      "Requirement already satisfied: urllib3<3,>=1.21.1 in /opt/conda/lib/python3.11/site-packages (from requests~=2.7->opentelemetry-exporter-otlp-proto-http) (2.0.7)\n",
      "Requirement already satisfied: certifi>=2017.4.17 in /opt/conda/lib/python3.11/site-packages (from requests~=2.7->opentelemetry-exporter-otlp-proto-http) (2023.7.22)\n",
      "Requirement already satisfied: zipp>=0.5 in /opt/conda/lib/python3.11/site-packages (from importlib-metadata<=8.5.0,>=6.0->opentelemetry-api==1.29.0->opentelemetry-semantic-conventions) (3.17.0)\n"
     ]
    }
   ],
   "source": [
    "!pip install great_expectations==1.3.0 pandas opentelemetry-api opentelemetry-distro opentelemetry-exporter-otlp #opentelemetry-exporter-otlp-proto-grpc  \n",
    "!pip install opentelemetry-semantic-conventions opentelemetry-util-http wrapt opentelemetry-exporter-otlp-proto-http\n",
    "\n",
    "import os, subprocess"
   ]
  },
  {
   "cell_type": "code",
   "execution_count": 2,
   "id": "2fd3f7f4-c382-4564-98b8-da5b85357d6e",
   "metadata": {},
   "outputs": [],
   "source": [
    "DATA_PRODUCT_NAME = 'consuntiviDiProduzione'\n",
    "BUSINESS_DOMAIN_NAME = 'eni power produzione'\n",
    "QUALITY_SIDECAR_SCRIPT_BASE_PATH = 'quality_sidecar/'\n",
    "EXPECTATIONS_JSON_FILE_PATH = 'resources/gx_v0.1.json'"
   ]
  },
  {
   "cell_type": "code",
   "execution_count": 3,
   "id": "0ca2f6a9-042a-429e-a438-b4ad06d94900",
   "metadata": {
    "scrolled": true
   },
   "outputs": [
    {
     "name": "stderr",
     "output_type": "stream",
     "text": [
      "INFO:great_expectations.data_context.types.base:Created temporary directory '/tmp/tmpo07hr0if' for ephemeral docs site\n",
      "INFO:root:Starting the application...\n",
      "INFO:root:Reading the GreatExpectations JSON configuration file...\n",
      "INFO:root:Configuring GreatExpectations resources...\n",
      "INFO:root:Configuring validation definitions...\n",
      "INFO:root:Executing validations and creating metrics...\n"
     ]
    },
    {
     "name": "stdout",
     "output_type": "stream",
     "text": [
      "\n"
     ]
    },
    {
     "name": "stderr",
     "output_type": "stream",
     "text": [
      "Calculating Metrics:  14%|█▎        | 3/22 [00:00<00:00, 93.90it/s] /opt/conda/lib/python3.11/site-packages/great_expectations/expectations/metrics/column_map_metrics/column_values_match_regex.py:25: UserWarning: This pattern is interpreted as a regular expression, and has match groups. To actually get the groups, use str.extract.\n",
      "  return column.astype(str).str.contains(regex)\n",
      "Calculating Metrics: 100%|██████████| 22/22 [00:00<00:00, 215.79it/s]\n",
      "INFO:root:Validation metrics created!\n",
      "INFO:root:Observations created!\n",
      "INFO:root:Observations created!\n"
     ]
    },
    {
     "name": "stdout",
     "output_type": "stream",
     "text": [
      "{\n",
      "    \"resource_metrics\": [\n",
      "        {\n",
      "            \"resource\": {\n",
      "                \"attributes\": {\n",
      "                    \"telemetry.sdk.language\": \"python\",\n",
      "                    \"telemetry.sdk.name\": \"opentelemetry\",\n",
      "                    \"telemetry.sdk.version\": \"1.29.0\",\n",
      "                    \"service.name\": \"consuntiviDiProduzione-quality_sidecar\",\n",
      "                    \"telemetry.auto.version\": \"0.50b0\"\n",
      "                },\n",
      "                \"schema_url\": \"\"\n",
      "            },\n",
      "            \"scope_metrics\": [\n",
      "                {\n",
      "                    \"scope\": {\n",
      "                        \"name\": \"__main__\",\n",
      "                        \"version\": \"\",\n",
      "                        \"schema_url\": \"\",\n",
      "                        \"attributes\": null\n",
      "                    },\n",
      "                    \"metrics\": [\n",
      "                        {\n",
      "                            \"name\": \"ko9ibd5tjob86vofpqcuuckafy4\",\n",
      "                            \"description\": \"\",\n",
      "                            \"unit\": \"%\",\n",
      "                            \"data\": {\n",
      "                                \"data_points\": [\n",
      "                                    {\n",
      "                                        \"attributes\": {\n",
      "                                            \"signal_type\": \"DATA_QUALITY\",\n",
      "                                            \"business_domain_name\": \"eni power produzione\",\n",
      "                                            \"data_product_name\": \"consuntiviDiProduzione\",\n",
      "                                            \"expectation_name\": \"checkNotNull\",\n",
      "                                            \"data_source_name\": \"dataSourceSample3\",\n",
      "                                            \"data_asset_name\": \"dataAssetSample3\",\n",
      "                                            \"column_name\": \"vendor_id\",\n",
      "                                            \"checked_elements_nbr\": 10000,\n",
      "                                            \"errors_nbr\": 0,\n",
      "                                            \"gx_suite_name\": \"dataSourceSample3-dataAssetSample3\",\n",
      "                                            \"data_quality_dimension_name\": \"Completeness\"\n",
      "                                        },\n",
      "                                        \"start_time_unix_nano\": null,\n",
      "                                        \"time_unix_nano\": 1738655528145725105,\n",
      "                                        \"value\": 100.0,\n",
      "                                        \"exemplars\": []\n",
      "                                    },\n",
      "                                    {\n",
      "                                        \"attributes\": {\n",
      "                                            \"signal_type\": \"DATA_QUALITY\",\n",
      "                                            \"business_domain_name\": \"eni power produzione\",\n",
      "                                            \"data_product_name\": \"consuntiviDiProduzione\",\n",
      "                                            \"expectation_name\": \"checkAcceptedValues\",\n",
      "                                            \"data_source_name\": \"dataSourceSample3\",\n",
      "                                            \"data_asset_name\": \"dataAssetSample3\",\n",
      "                                            \"column_name\": \"passenger_count\",\n",
      "                                            \"checked_elements_nbr\": 10000,\n",
      "                                            \"errors_nbr\": 667,\n",
      "                                            \"gx_suite_name\": \"dataSourceSample3-dataAssetSample3\",\n",
      "                                            \"data_quality_dimension_name\": \"Consistency\"\n",
      "                                        },\n",
      "                                        \"start_time_unix_nano\": null,\n",
      "                                        \"time_unix_nano\": 1738655528145725105,\n",
      "                                        \"value\": 93.33,\n",
      "                                        \"exemplars\": []\n",
      "                                    },\n",
      "                                    {\n",
      "                                        \"attributes\": {\n",
      "                                            \"signal_type\": \"DATA_QUALITY\",\n",
      "                                            \"business_domain_name\": \"eni power produzione\",\n",
      "                                            \"data_product_name\": \"consuntiviDiProduzione\",\n",
      "                                            \"expectation_name\": \"checkAcceptedValues\",\n",
      "                                            \"data_source_name\": \"dataSourceSample3\",\n",
      "                                            \"data_asset_name\": \"dataAssetSample3\",\n",
      "                                            \"column_name\": \"pickup_datetime\",\n",
      "                                            \"checked_elements_nbr\": 10000,\n",
      "                                            \"errors_nbr\": 0,\n",
      "                                            \"gx_suite_name\": \"dataSourceSample3-dataAssetSample3\",\n",
      "                                            \"data_quality_dimension_name\": \"Validity\"\n",
      "                                        },\n",
      "                                        \"start_time_unix_nano\": null,\n",
      "                                        \"time_unix_nano\": 1738655528145725105,\n",
      "                                        \"value\": 100.0,\n",
      "                                        \"exemplars\": []\n",
      "                                    }\n",
      "                                ]\n",
      "                            }\n",
      "                        }\n",
      "                    ],\n",
      "                    \"schema_url\": \"\"\n",
      "                }\n",
      "            ],\n",
      "            \"schema_url\": \"\"\n",
      "        }\n",
      "    ]\n",
      "}\n"
     ]
    },
    {
     "data": {
      "text/plain": [
       "CompletedProcess(args='opentelemetry-instrument --metrics_exporter otlp,console --logs_exporter otlp,console python quality_sidecar//app.py quality_sidecar//resources/gx_v0.1.json', returncode=0)"
      ]
     },
     "execution_count": 3,
     "metadata": {},
     "output_type": "execute_result"
    }
   ],
   "source": [
    "# OTLP variables. DO NOT REMOVE!\n",
    "os.environ['DATA_PRODUCT_NAME'] = DATA_PRODUCT_NAME\n",
    "os.environ['BUSINESS_DOMAIN_NAME'] = BUSINESS_DOMAIN_NAME\n",
    "os.environ['OTEL_EXPORTER_OTLP_ENDPOINT'] = 'http://platform-collector:4318'\n",
    "os.environ['OTEL_EXPORTER_OTLP_PROTOCOL'] = \"http/protobuf\"\n",
    "os.environ['OTEL_SERVICE_NAME'] = f'{os.getenv(\"DATA_PRODUCT_NAME\")}-quality_sidecar'\n",
    "\n",
    "command = f\"opentelemetry-instrument --metrics_exporter otlp,console --logs_exporter otlp,console python {QUALITY_SIDECAR_SCRIPT_BASE_PATH}/app.py {QUALITY_SIDECAR_SCRIPT_BASE_PATH}/{EXPECTATIONS_JSON_FILE_PATH}\"\n",
    "subprocess.run(command, shell=True, check=True)"
   ]
  },
  {
   "cell_type": "code",
   "execution_count": null,
   "id": "6c2a5e61-b6f8-4144-aa66-bef5e1dcbe70",
   "metadata": {},
   "outputs": [],
   "source": []
  }
 ],
 "metadata": {
  "kernelspec": {
   "display_name": "Python 3 (ipykernel)",
   "language": "python",
   "name": "python3"
  },
  "language_info": {
   "codemirror_mode": {
    "name": "ipython",
    "version": 3
   },
   "file_extension": ".py",
   "mimetype": "text/x-python",
   "name": "python",
   "nbconvert_exporter": "python",
   "pygments_lexer": "ipython3",
   "version": "3.11.6"
  }
 },
 "nbformat": 4,
 "nbformat_minor": 5
}
