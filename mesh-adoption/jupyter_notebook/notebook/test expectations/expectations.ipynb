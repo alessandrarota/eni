{
 "cells": [
  {
   "cell_type": "code",
   "execution_count": 1,
   "id": "4616bf49-f6ef-46d7-a729-dcefec141517",
   "metadata": {
    "collapsed": true,
    "jupyter": {
     "outputs_hidden": true
    },
    "scrolled": true
   },
   "outputs": [
    {
     "name": "stdout",
     "output_type": "stream",
     "text": [
      "Requirement already satisfied: great-expectations in /opt/conda/lib/python3.11/site-packages (1.3.9)\n",
      "Requirement already satisfied: altair<5.0.0,>=4.2.1 in /opt/conda/lib/python3.11/site-packages (from great-expectations) (4.2.2)\n",
      "Requirement already satisfied: cryptography>=3.2 in /opt/conda/lib/python3.11/site-packages (from great-expectations) (41.0.4)\n",
      "Requirement already satisfied: jinja2>=3 in /opt/conda/lib/python3.11/site-packages (from great-expectations) (3.1.2)\n",
      "Requirement already satisfied: jsonschema>=2.5.1 in /opt/conda/lib/python3.11/site-packages (from great-expectations) (4.19.1)\n",
      "Requirement already satisfied: marshmallow<4.0.0,>=3.7.1 in /opt/conda/lib/python3.11/site-packages (from great-expectations) (3.26.1)\n",
      "Requirement already satisfied: mistune>=0.8.4 in /opt/conda/lib/python3.11/site-packages (from great-expectations) (3.0.1)\n",
      "Requirement already satisfied: packaging in /opt/conda/lib/python3.11/site-packages (from great-expectations) (23.2)\n",
      "Requirement already satisfied: posthog<4,>3 in /opt/conda/lib/python3.11/site-packages (from great-expectations) (3.18.1)\n",
      "Requirement already satisfied: pydantic>=1.10.7 in /opt/conda/lib/python3.11/site-packages (from great-expectations) (2.10.6)\n",
      "Requirement already satisfied: pyparsing>=2.4 in /opt/conda/lib/python3.11/site-packages (from great-expectations) (3.2.1)\n",
      "Requirement already satisfied: python-dateutil>=2.8.1 in /opt/conda/lib/python3.11/site-packages (from great-expectations) (2.8.2)\n",
      "Requirement already satisfied: requests>=2.20 in /opt/conda/lib/python3.11/site-packages (from great-expectations) (2.31.0)\n",
      "Requirement already satisfied: ruamel.yaml>=0.16 in /opt/conda/lib/python3.11/site-packages (from great-expectations) (0.17.39)\n",
      "Requirement already satisfied: scipy>=1.6.0 in /opt/conda/lib/python3.11/site-packages (from great-expectations) (1.15.2)\n",
      "Requirement already satisfied: tqdm>=4.59.0 in /opt/conda/lib/python3.11/site-packages (from great-expectations) (4.66.1)\n",
      "Requirement already satisfied: typing-extensions>=4.1.0 in /opt/conda/lib/python3.11/site-packages (from great-expectations) (4.12.2)\n",
      "Requirement already satisfied: tzlocal>=1.2 in /opt/conda/lib/python3.11/site-packages (from great-expectations) (5.3.1)\n",
      "Requirement already satisfied: numpy>=1.22.4 in /opt/conda/lib/python3.11/site-packages (from great-expectations) (1.26.4)\n",
      "Requirement already satisfied: pandas<2.2,>=1.3.0 in /opt/conda/lib/python3.11/site-packages (from great-expectations) (2.1.4)\n",
      "Requirement already satisfied: entrypoints in /opt/conda/lib/python3.11/site-packages (from altair<5.0.0,>=4.2.1->great-expectations) (0.4)\n",
      "Requirement already satisfied: toolz in /opt/conda/lib/python3.11/site-packages (from altair<5.0.0,>=4.2.1->great-expectations) (1.0.0)\n",
      "Requirement already satisfied: cffi>=1.12 in /opt/conda/lib/python3.11/site-packages (from cryptography>=3.2->great-expectations) (1.16.0)\n",
      "Requirement already satisfied: MarkupSafe>=2.0 in /opt/conda/lib/python3.11/site-packages (from jinja2>=3->great-expectations) (2.1.3)\n",
      "Requirement already satisfied: attrs>=22.2.0 in /opt/conda/lib/python3.11/site-packages (from jsonschema>=2.5.1->great-expectations) (23.1.0)\n",
      "Requirement already satisfied: jsonschema-specifications>=2023.03.6 in /opt/conda/lib/python3.11/site-packages (from jsonschema>=2.5.1->great-expectations) (2023.7.1)\n",
      "Requirement already satisfied: referencing>=0.28.4 in /opt/conda/lib/python3.11/site-packages (from jsonschema>=2.5.1->great-expectations) (0.30.2)\n",
      "Requirement already satisfied: rpds-py>=0.7.1 in /opt/conda/lib/python3.11/site-packages (from jsonschema>=2.5.1->great-expectations) (0.10.6)\n",
      "Requirement already satisfied: pytz>=2020.1 in /opt/conda/lib/python3.11/site-packages (from pandas<2.2,>=1.3.0->great-expectations) (2023.3.post1)\n",
      "Requirement already satisfied: tzdata>=2022.1 in /opt/conda/lib/python3.11/site-packages (from pandas<2.2,>=1.3.0->great-expectations) (2025.1)\n",
      "Requirement already satisfied: six>=1.5 in /opt/conda/lib/python3.11/site-packages (from posthog<4,>3->great-expectations) (1.16.0)\n",
      "Requirement already satisfied: monotonic>=1.5 in /opt/conda/lib/python3.11/site-packages (from posthog<4,>3->great-expectations) (1.6)\n",
      "Requirement already satisfied: backoff>=1.10.0 in /opt/conda/lib/python3.11/site-packages (from posthog<4,>3->great-expectations) (2.2.1)\n",
      "Requirement already satisfied: distro>=1.5.0 in /opt/conda/lib/python3.11/site-packages (from posthog<4,>3->great-expectations) (1.9.0)\n",
      "Requirement already satisfied: annotated-types>=0.6.0 in /opt/conda/lib/python3.11/site-packages (from pydantic>=1.10.7->great-expectations) (0.7.0)\n",
      "Requirement already satisfied: pydantic-core==2.27.2 in /opt/conda/lib/python3.11/site-packages (from pydantic>=1.10.7->great-expectations) (2.27.2)\n",
      "Requirement already satisfied: charset-normalizer<4,>=2 in /opt/conda/lib/python3.11/site-packages (from requests>=2.20->great-expectations) (3.3.0)\n",
      "Requirement already satisfied: idna<4,>=2.5 in /opt/conda/lib/python3.11/site-packages (from requests>=2.20->great-expectations) (3.4)\n",
      "Requirement already satisfied: urllib3<3,>=1.21.1 in /opt/conda/lib/python3.11/site-packages (from requests>=2.20->great-expectations) (2.0.7)\n",
      "Requirement already satisfied: certifi>=2017.4.17 in /opt/conda/lib/python3.11/site-packages (from requests>=2.20->great-expectations) (2023.7.22)\n",
      "Requirement already satisfied: ruamel.yaml.clib>=0.2.7 in /opt/conda/lib/python3.11/site-packages (from ruamel.yaml>=0.16->great-expectations) (0.2.7)\n",
      "Requirement already satisfied: pycparser in /opt/conda/lib/python3.11/site-packages (from cffi>=1.12->cryptography>=3.2->great-expectations) (2.21)\n",
      "Requirement already satisfied: pyspark in /opt/conda/lib/python3.11/site-packages (3.5.5)\n",
      "Requirement already satisfied: py4j==0.10.9.7 in /opt/conda/lib/python3.11/site-packages (from pyspark) (0.10.9.7)\n"
     ]
    }
   ],
   "source": [
    "!pip install great-expectations\n",
    "!pip install pyspark\n",
    "import great_expectations as gx\n",
    "from pyspark.sql import SparkSession\n",
    "from great_expectations.expectations import ExpectColumnMinToBeBetween"
   ]
  },
  {
   "cell_type": "code",
   "execution_count": 2,
   "id": "2259abd7-5301-41f9-8374-b430e6f7a87e",
   "metadata": {},
   "outputs": [
    {
     "name": "stderr",
     "output_type": "stream",
     "text": [
      "Setting default log level to \"WARN\".\n",
      "To adjust logging level use sc.setLogLevel(newLevel). For SparkR, use setLogLevel(newLevel).\n",
      "25/03/06 16:49:54 WARN NativeCodeLoader: Unable to load native-hadoop library for your platform... using builtin-java classes where applicable\n"
     ]
    }
   ],
   "source": [
    "file_path = \"yellow_tripdata_2024-01.parquet\"\n",
    "spark = SparkSession.builder.appName(\"ParquetReader\").getOrCreate()\n",
    "df = spark.read.parquet(file_path)\n",
    "#print(list(df.columns))\n",
    "#print(df.show(5))\n",
    "context = gx.get_context()\n",
    "data_source = context.data_sources.add_spark(\"data_source\")\n",
    "data_asset = data_source.add_dataframe_asset(\"data_asset\")\n",
    "batch_definition = data_asset.add_batch_definition_whole_dataframe(\"batch_definition\")"
   ]
  },
  {
   "cell_type": "code",
   "execution_count": 4,
   "id": "e52e7b76-0d60-4b8f-b152-aae2ff974ffc",
   "metadata": {},
   "outputs": [
    {
     "name": "stdout",
     "output_type": "stream",
     "text": [
      "+--------+--------------------+---------------------+---------------+-------------+----------+------------------+------------+------------+------------+-----------+-----+-------+----------+------------+---------------------+------------+--------------------+-----------+\n",
      "|VendorID|tpep_pickup_datetime|tpep_dropoff_datetime|passenger_count|trip_distance|RatecodeID|store_and_fwd_flag|PULocationID|DOLocationID|payment_type|fare_amount|extra|mta_tax|tip_amount|tolls_amount|improvement_surcharge|total_amount|congestion_surcharge|Airport_fee|\n",
      "+--------+--------------------+---------------------+---------------+-------------+----------+------------------+------------+------------+------------+-----------+-----+-------+----------+------------+---------------------+------------+--------------------+-----------+\n",
      "|       2| 2024-01-01 00:57:55|  2024-01-01 01:17:43|              1|         1.72|         1|                 N|         186|          79|           2|       17.7|  1.0|    0.5|       0.0|         0.0|                  1.0|        22.7|                 2.5|        0.0|\n",
      "|       1| 2024-01-01 00:03:00|  2024-01-01 00:09:36|              1|          1.8|         1|                 N|         140|         236|           1|       10.0|  3.5|    0.5|      3.75|         0.0|                  1.0|       18.75|                 2.5|        0.0|\n",
      "|       1| 2024-01-01 00:17:06|  2024-01-01 00:35:01|              1|          4.7|         1|                 N|         236|          79|           1|       23.3|  3.5|    0.5|       3.0|         0.0|                  1.0|        31.3|                 2.5|        0.0|\n",
      "|       1| 2024-01-01 00:36:38|  2024-01-01 00:44:56|              1|          1.4|         1|                 N|          79|         211|           1|       10.0|  3.5|    0.5|       2.0|         0.0|                  1.0|        17.0|                 2.5|        0.0|\n",
      "|       1| 2024-01-01 00:46:51|  2024-01-01 00:52:57|              1|          0.8|         1|                 N|         211|         148|           1|        7.9|  3.5|    0.5|       3.2|         0.0|                  1.0|        16.1|                 2.5|        0.0|\n",
      "+--------+--------------------+---------------------+---------------+-------------+----------+------------------+------------+------------+------------+-----------+-----+-------+----------+------------+---------------------+------------+--------------------+-----------+\n",
      "\n",
      "None\n"
     ]
    },
    {
     "name": "stderr",
     "output_type": "stream",
     "text": [
      "Calculating Metrics: 100%|██████████| 6/6 [00:01<00:00,  4.84it/s]"
     ]
    },
    {
     "name": "stdout",
     "output_type": "stream",
     "text": [
      "{\n",
      "  \"success\": true,\n",
      "  \"expectation_config\": {\n",
      "    \"type\": \"expect_column_min_to_be_between\",\n",
      "    \"kwargs\": {\n",
      "      \"batch_id\": \"data_source-data_asset\",\n",
      "      \"column\": \"extra\",\n",
      "      \"min_value\": 0.0,\n",
      "      \"max_value\": 3.0\n",
      "    },\n",
      "    \"meta\": {}\n",
      "  },\n",
      "  \"result\": {\n",
      "    \"observed_value\": 1.0\n",
      "  },\n",
      "  \"meta\": {},\n",
      "  \"exception_info\": {\n",
      "    \"raised_exception\": false,\n",
      "    \"exception_traceback\": null,\n",
      "    \"exception_message\": null\n",
      "  }\n",
      "}\n"
     ]
    },
    {
     "name": "stderr",
     "output_type": "stream",
     "text": [
      "\n"
     ]
    }
   ],
   "source": [
    "def test_ExpectColumnMinToBeBetween():\n",
    "    print(df.limit(5).show())\n",
    "    expectation_instance = ExpectColumnMinToBeBetween(\n",
    "        column=\"extra\",\n",
    "        min_value=0,\n",
    "        max_value=3,\n",
    "        strict_max=False\n",
    "        )\n",
    "    batch = batch_definition.get_batch(batch_parameters={\"dataframe\": df.limit(5)})\n",
    "    validation_results = batch.validate(expectation_instance)\n",
    "    print(validation_results)\n",
    "\n",
    "test_ExpectColumnMinToBeBetween()"
   ]
  },
  {
   "cell_type": "code",
   "execution_count": null,
   "id": "6fb4e578-24fe-4ccd-ac20-41f241d2aaeb",
   "metadata": {},
   "outputs": [],
   "source": []
  }
 ],
 "metadata": {
  "kernelspec": {
   "display_name": "Python 3 (ipykernel)",
   "language": "python",
   "name": "python3"
  },
  "language_info": {
   "codemirror_mode": {
    "name": "ipython",
    "version": 3
   },
   "file_extension": ".py",
   "mimetype": "text/x-python",
   "name": "python",
   "nbconvert_exporter": "python",
   "pygments_lexer": "ipython3",
   "version": "3.11.6"
  }
 },
 "nbformat": 4,
 "nbformat_minor": 5
}
