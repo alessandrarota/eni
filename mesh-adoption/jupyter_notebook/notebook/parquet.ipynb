{
 "cells": [
  {
   "cell_type": "code",
   "execution_count": 1,
   "id": "09a2aef0-a3e8-4251-a93d-e705dc2ddafc",
   "metadata": {
    "scrolled": true
   },
   "outputs": [
    {
     "name": "stdout",
     "output_type": "stream",
     "text": [
      "Collecting pyarrow\n",
      "  Downloading pyarrow-19.0.0-cp311-cp311-manylinux_2_28_x86_64.whl.metadata (3.3 kB)\n",
      "Downloading pyarrow-19.0.0-cp311-cp311-manylinux_2_28_x86_64.whl (42.1 MB)\n",
      "\u001b[2K   \u001b[90m━━━━━━━━━━━━━━━━━━━━━━━━━━━━━━━━━━━━━━━━\u001b[0m \u001b[32m42.1/42.1 MB\u001b[0m \u001b[31m4.7 MB/s\u001b[0m eta \u001b[36m0:00:00\u001b[0m00:01\u001b[0m00:01\u001b[0m\n",
      "\u001b[?25hInstalling collected packages: pyarrow\n",
      "Successfully installed pyarrow-19.0.0\n",
      "Collecting fastparquet\n",
      "  Downloading fastparquet-2024.11.0-cp311-cp311-manylinux_2_17_x86_64.manylinux2014_x86_64.whl.metadata (4.2 kB)\n",
      "Collecting pandas>=1.5.0 (from fastparquet)\n",
      "  Downloading pandas-2.2.3-cp311-cp311-manylinux_2_17_x86_64.manylinux2014_x86_64.whl.metadata (89 kB)\n",
      "\u001b[2K     \u001b[90m━━━━━━━━━━━━━━━━━━━━━━━━━━━━━━━━━━━━━━━\u001b[0m \u001b[32m89.9/89.9 kB\u001b[0m \u001b[31m781.2 kB/s\u001b[0m eta \u001b[36m0:00:00\u001b[0m \u001b[36m0:00:01\u001b[0m\n",
      "\u001b[?25hCollecting numpy (from fastparquet)\n",
      "  Downloading numpy-2.2.2-cp311-cp311-manylinux_2_17_x86_64.manylinux2014_x86_64.whl.metadata (62 kB)\n",
      "\u001b[2K     \u001b[90m━━━━━━━━━━━━━━━━━━━━━━━━━━━━━━━━━━━━━━━\u001b[0m \u001b[32m62.0/62.0 kB\u001b[0m \u001b[31m697.0 kB/s\u001b[0m eta \u001b[36m0:00:00\u001b[0m0:01\u001b[0m\n",
      "\u001b[?25hCollecting cramjam>=2.3 (from fastparquet)\n",
      "  Downloading cramjam-2.9.1-cp311-cp311-manylinux_2_17_x86_64.manylinux2014_x86_64.whl.metadata (4.9 kB)\n",
      "Collecting fsspec (from fastparquet)\n",
      "  Downloading fsspec-2024.12.0-py3-none-any.whl.metadata (11 kB)\n",
      "Requirement already satisfied: packaging in /opt/conda/lib/python3.11/site-packages (from fastparquet) (23.2)\n",
      "Requirement already satisfied: python-dateutil>=2.8.2 in /opt/conda/lib/python3.11/site-packages (from pandas>=1.5.0->fastparquet) (2.8.2)\n",
      "Requirement already satisfied: pytz>=2020.1 in /opt/conda/lib/python3.11/site-packages (from pandas>=1.5.0->fastparquet) (2023.3.post1)\n",
      "Collecting tzdata>=2022.7 (from pandas>=1.5.0->fastparquet)\n",
      "  Downloading tzdata-2025.1-py2.py3-none-any.whl.metadata (1.4 kB)\n",
      "Requirement already satisfied: six>=1.5 in /opt/conda/lib/python3.11/site-packages (from python-dateutil>=2.8.2->pandas>=1.5.0->fastparquet) (1.16.0)\n",
      "Downloading fastparquet-2024.11.0-cp311-cp311-manylinux_2_17_x86_64.manylinux2014_x86_64.whl (1.8 MB)\n",
      "\u001b[2K   \u001b[90m━━━━━━━━━━━━━━━━━━━━━━━━━━━━━━━━━━━━━━━━\u001b[0m \u001b[32m1.8/1.8 MB\u001b[0m \u001b[31m4.4 MB/s\u001b[0m eta \u001b[36m0:00:00\u001b[0m00:01\u001b[0m00:01\u001b[0m\n",
      "\u001b[?25hDownloading cramjam-2.9.1-cp311-cp311-manylinux_2_17_x86_64.manylinux2014_x86_64.whl (2.4 MB)\n",
      "\u001b[2K   \u001b[90m━━━━━━━━━━━━━━━━━━━━━━━━━━━━━━━━━━━━━━━━\u001b[0m \u001b[32m2.4/2.4 MB\u001b[0m \u001b[31m4.7 MB/s\u001b[0m eta \u001b[36m0:00:00\u001b[0m00:01\u001b[0m00:01\u001b[0m\n",
      "\u001b[?25hDownloading pandas-2.2.3-cp311-cp311-manylinux_2_17_x86_64.manylinux2014_x86_64.whl (13.1 MB)\n",
      "\u001b[2K   \u001b[90m━━━━━━━━━━━━━━━━━━━━━━━━━━━━━━━━━━━━━━━━\u001b[0m \u001b[32m13.1/13.1 MB\u001b[0m \u001b[31m5.0 MB/s\u001b[0m eta \u001b[36m0:00:00\u001b[0m00:01\u001b[0m00:01\u001b[0m\n",
      "\u001b[?25hDownloading numpy-2.2.2-cp311-cp311-manylinux_2_17_x86_64.manylinux2014_x86_64.whl (16.4 MB)\n",
      "\u001b[2K   \u001b[90m━━━━━━━━━━━━━━━━━━━━━━━━━━━━━━━━━━━━━━━━\u001b[0m \u001b[32m16.4/16.4 MB\u001b[0m \u001b[31m5.1 MB/s\u001b[0m eta \u001b[36m0:00:00\u001b[0m00:01\u001b[0m00:01\u001b[0m\n",
      "\u001b[?25hDownloading fsspec-2024.12.0-py3-none-any.whl (183 kB)\n",
      "\u001b[2K   \u001b[90m━━━━━━━━━━━━━━━━━━━━━━━━━━━━━━━━━━━━━━━━\u001b[0m \u001b[32m183.9/183.9 kB\u001b[0m \u001b[31m1.5 MB/s\u001b[0m eta \u001b[36m0:00:00\u001b[0ma \u001b[36m0:00:01\u001b[0m\n",
      "\u001b[?25hDownloading tzdata-2025.1-py2.py3-none-any.whl (346 kB)\n",
      "\u001b[2K   \u001b[90m━━━━━━━━━━━━━━━━━━━━━━━━━━━━━━━━━━━━━━━━\u001b[0m \u001b[32m346.8/346.8 kB\u001b[0m \u001b[31m3.0 MB/s\u001b[0m eta \u001b[36m0:00:00\u001b[0ma \u001b[36m0:00:01\u001b[0m\n",
      "\u001b[?25hInstalling collected packages: tzdata, numpy, fsspec, cramjam, pandas, fastparquet\n",
      "Successfully installed cramjam-2.9.1 fastparquet-2024.11.0 fsspec-2024.12.0 numpy-2.2.2 pandas-2.2.3 tzdata-2025.1\n"
     ]
    }
   ],
   "source": [
    "!pip install pyarrow\n",
    "!pip install fastparquet"
   ]
  },
  {
   "cell_type": "code",
   "execution_count": 3,
   "id": "68f5e599-4e2d-4888-8e00-3276d05da61d",
   "metadata": {},
   "outputs": [
    {
     "name": "stdout",
     "output_type": "stream",
     "text": [
      "Prime righe del DataFrame:\n",
      "                             PK DataDiRiferimento Macrozona      PrezzoBase  \\\n",
      "0  MjkvMDEvMjAyNCAwNDoxNXxOT1JE  29/01/2024 04:15      NORD  130.0000000000   \n",
      "1  MjkvMDEvMjAyNCAwNTowMHxTVUQ=  29/01/2024 05:00       SUD  -60.3080000000   \n",
      "2  MjkvMDEvMjAyNCAwODo0NXxTVUQ=  29/01/2024 08:45       SUD   76.0000000000   \n",
      "3  MjkvMDEvMjAyNCAxNzo0NXxTVUQ=  29/01/2024 17:45       SUD  285.4040000000   \n",
      "4  MjkvMDEvMjAyNCAyMzo0NXxOT1JE  29/01/2024 23:45      NORD   25.2420000000   \n",
      "\n",
      "  ComponenteIncentivante PrezzoSbilanciamento LoadingSliceDate SliceDate  \n",
      "0                  0E-10       130.0000000000         20240626  20240626  \n",
      "1                  0E-10       -60.3080000000         20240626  20240626  \n",
      "2                  0E-10        76.0000000000         20240626  20240626  \n",
      "3                  0E-10       285.4040000000         20240626  20240626  \n",
      "4                  0E-10        25.2420000000         20240626  20240626  \n",
      "\n",
      "Informazioni sul DataFrame:\n",
      "<class 'pandas.core.frame.DataFrame'>\n",
      "RangeIndex: 186 entries, 0 to 185\n",
      "Data columns (total 8 columns):\n",
      " #   Column                  Non-Null Count  Dtype \n",
      "---  ------                  --------------  ----- \n",
      " 0   PK                      186 non-null    object\n",
      " 1   DataDiRiferimento       186 non-null    object\n",
      " 2   Macrozona               186 non-null    object\n",
      " 3   PrezzoBase              186 non-null    object\n",
      " 4   ComponenteIncentivante  186 non-null    object\n",
      " 5   PrezzoSbilanciamento    186 non-null    object\n",
      " 6   LoadingSliceDate        186 non-null    object\n",
      " 7   SliceDate               186 non-null    object\n",
      "dtypes: object(8)\n",
      "memory usage: 11.8+ KB\n",
      "None\n",
      "\n",
      "Statistiche descrittive:\n",
      "                                  PK DataDiRiferimento Macrozona  \\\n",
      "count                            186               186       186   \n",
      "unique                           186                93         2   \n",
      "top     MjkvMDEvMjAyNCAwNDoxNXxOT1JE  29/01/2024 04:15      NORD   \n",
      "freq                               1                 2        93   \n",
      "\n",
      "            PrezzoBase ComponenteIncentivante PrezzoSbilanciamento  \\\n",
      "count              186                    186                  186   \n",
      "unique             166                      3                  166   \n",
      "top     160.0000000000                  0E-10       160.0000000000   \n",
      "freq                 3                    184                    3   \n",
      "\n",
      "       LoadingSliceDate SliceDate  \n",
      "count               186       186  \n",
      "unique                1         1  \n",
      "top            20240626  20240626  \n",
      "freq                186       186  \n"
     ]
    }
   ],
   "source": [
    "import pandas as pd\n",
    "\n",
    "# PrezziGiornalieriQuartoOrari\n",
    "file_path = \"data.parquet\"\n",
    "\n",
    "df = pd.read_parquet(file_path)\n",
    "\n",
    "print(\"Prime righe del DataFrame:\")\n",
    "print(df.head())\n",
    "\n",
    "print(\"\\nInformazioni sul DataFrame:\")\n",
    "print(df.info())\n",
    "\n",
    "print(\"\\nStatistiche descrittive:\")\n",
    "print(df.describe())\n",
    "\n",
    "df.to_csv(\"data_converted.csv\", index=False)\n",
    "df.describe().to_csv(\"PrezziGiornalieriQuartoOrari.csv\")"
   ]
  },
  {
   "cell_type": "code",
   "execution_count": null,
   "id": "c37d36b5-3d60-487f-8317-665c33ea02d1",
   "metadata": {},
   "outputs": [],
   "source": []
  }
 ],
 "metadata": {
  "kernelspec": {
   "display_name": "Python 3 (ipykernel)",
   "language": "python",
   "name": "python3"
  },
  "language_info": {
   "codemirror_mode": {
    "name": "ipython",
    "version": 3
   },
   "file_extension": ".py",
   "mimetype": "text/x-python",
   "name": "python",
   "nbconvert_exporter": "python",
   "pygments_lexer": "ipython3",
   "version": "3.11.6"
  }
 },
 "nbformat": 4,
 "nbformat_minor": 5
}
