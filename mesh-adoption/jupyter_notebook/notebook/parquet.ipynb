{
 "cells": [
  {
   "cell_type": "code",
   "execution_count": 1,
   "id": "09a2aef0-a3e8-4251-a93d-e705dc2ddafc",
   "metadata": {
    "scrolled": true
   },
   "outputs": [
    {
     "name": "stdout",
     "output_type": "stream",
     "text": [
      "Collecting pyarrow\n",
      "  Using cached pyarrow-19.0.0-cp311-cp311-manylinux_2_28_x86_64.whl.metadata (3.3 kB)\n",
      "Using cached pyarrow-19.0.0-cp311-cp311-manylinux_2_28_x86_64.whl (42.1 MB)\n",
      "Installing collected packages: pyarrow\n",
      "Successfully installed pyarrow-19.0.0\n",
      "Collecting fastparquet\n",
      "  Using cached fastparquet-2024.11.0-cp311-cp311-manylinux_2_17_x86_64.manylinux2014_x86_64.whl.metadata (4.2 kB)\n",
      "Collecting pandas>=1.5.0 (from fastparquet)\n",
      "  Using cached pandas-2.2.3-cp311-cp311-manylinux_2_17_x86_64.manylinux2014_x86_64.whl.metadata (89 kB)\n",
      "Collecting numpy (from fastparquet)\n",
      "  Using cached numpy-2.2.2-cp311-cp311-manylinux_2_17_x86_64.manylinux2014_x86_64.whl.metadata (62 kB)\n",
      "Collecting cramjam>=2.3 (from fastparquet)\n",
      "  Using cached cramjam-2.9.1-cp311-cp311-manylinux_2_17_x86_64.manylinux2014_x86_64.whl.metadata (4.9 kB)\n",
      "Collecting fsspec (from fastparquet)\n",
      "  Downloading fsspec-2025.2.0-py3-none-any.whl.metadata (11 kB)\n",
      "Requirement already satisfied: packaging in /opt/conda/lib/python3.11/site-packages (from fastparquet) (23.2)\n",
      "Requirement already satisfied: python-dateutil>=2.8.2 in /opt/conda/lib/python3.11/site-packages (from pandas>=1.5.0->fastparquet) (2.8.2)\n",
      "Requirement already satisfied: pytz>=2020.1 in /opt/conda/lib/python3.11/site-packages (from pandas>=1.5.0->fastparquet) (2023.3.post1)\n",
      "Collecting tzdata>=2022.7 (from pandas>=1.5.0->fastparquet)\n",
      "  Using cached tzdata-2025.1-py2.py3-none-any.whl.metadata (1.4 kB)\n",
      "Requirement already satisfied: six>=1.5 in /opt/conda/lib/python3.11/site-packages (from python-dateutil>=2.8.2->pandas>=1.5.0->fastparquet) (1.16.0)\n",
      "Using cached fastparquet-2024.11.0-cp311-cp311-manylinux_2_17_x86_64.manylinux2014_x86_64.whl (1.8 MB)\n",
      "Using cached cramjam-2.9.1-cp311-cp311-manylinux_2_17_x86_64.manylinux2014_x86_64.whl (2.4 MB)\n",
      "Using cached pandas-2.2.3-cp311-cp311-manylinux_2_17_x86_64.manylinux2014_x86_64.whl (13.1 MB)\n",
      "Using cached numpy-2.2.2-cp311-cp311-manylinux_2_17_x86_64.manylinux2014_x86_64.whl (16.4 MB)\n",
      "Downloading fsspec-2025.2.0-py3-none-any.whl (184 kB)\n",
      "\u001b[2K   \u001b[90m━━━━━━━━━━━━━━━━━━━━━━━━━━━━━━━━━━━━━━━\u001b[0m \u001b[32m184.5/184.5 kB\u001b[0m \u001b[31m805.5 kB/s\u001b[0m eta \u001b[36m0:00:00\u001b[0m0:01\u001b[0m0:01\u001b[0m\n",
      "\u001b[?25hUsing cached tzdata-2025.1-py2.py3-none-any.whl (346 kB)\n",
      "Installing collected packages: tzdata, numpy, fsspec, cramjam, pandas, fastparquet\n",
      "Successfully installed cramjam-2.9.1 fastparquet-2024.11.0 fsspec-2025.2.0 numpy-2.2.2 pandas-2.2.3 tzdata-2025.1\n"
     ]
    }
   ],
   "source": [
    "!pip install pyarrow\n",
    "!pip install fastparquet"
   ]
  },
  {
   "cell_type": "code",
   "execution_count": 13,
   "id": "eda6ad07-19f2-4b18-ac23-e7751987325d",
   "metadata": {},
   "outputs": [],
   "source": [
    "PATH = 'SegnoGiornalieroQuartoOrario'"
   ]
  },
  {
   "cell_type": "code",
   "execution_count": 14,
   "id": "68f5e599-4e2d-4888-8e00-3276d05da61d",
   "metadata": {},
   "outputs": [
    {
     "name": "stdout",
     "output_type": "stream",
     "text": [
      "Prime righe del DataFrame:\n",
      "                             PK DataDiRiferimento Macrozona  \\\n",
      "0  MjIvMTAvMjAyNCAxNjoxNXxTVUQ=  22/10/2024 16:15       SUD   \n",
      "1  MjIvMTAvMjAyNCAwNzozMHxOT1JE  22/10/2024 07:30      NORD   \n",
      "2  MjIvMTAvMjAyNCAyMjowMHxTVUQ=  22/10/2024 22:00       SUD   \n",
      "3  MjIvMTAvMjAyNCAxNjowMHxTVUQ=  22/10/2024 16:00       SUD   \n",
      "4  MjIvMTAvMjAyNCAyMDoxNXxTVUQ=  22/10/2024 20:15       SUD   \n",
      "\n",
      "  SbilAggregatoZonale[MWh] SegnoAggregatoZonale      Scambi[MWh]  \\\n",
      "0          -164.2300000000                    -   486.0140000000   \n",
      "1           -74.5910000000                    -  -588.8360000000   \n",
      "2           -80.4590000000                    -   833.6140000000   \n",
      "3          -116.8410000000                    -   465.2310000000   \n",
      "4           -51.1890000000                    -   827.6330000000   \n",
      "\n",
      "      Estero[MWh] LoadingSliceDate SliceDate  \n",
      "0  135.5750000000         20250203  20250203  \n",
      "1  904.4560000000         20250203  20250203  \n",
      "2  113.1500000000         20250203  20250203  \n",
      "3  133.7330000000         20250203  20250203  \n",
      "4  -10.4400000000         20250203  20250203  \n",
      "\n",
      "Informazioni sul DataFrame:\n",
      "<class 'pandas.core.frame.DataFrame'>\n",
      "RangeIndex: 192 entries, 0 to 191\n",
      "Data columns (total 9 columns):\n",
      " #   Column                    Non-Null Count  Dtype \n",
      "---  ------                    --------------  ----- \n",
      " 0   PK                        192 non-null    object\n",
      " 1   DataDiRiferimento         192 non-null    object\n",
      " 2   Macrozona                 192 non-null    object\n",
      " 3   SbilAggregatoZonale[MWh]  192 non-null    object\n",
      " 4   SegnoAggregatoZonale      192 non-null    object\n",
      " 5   Scambi[MWh]               192 non-null    object\n",
      " 6   Estero[MWh]               192 non-null    object\n",
      " 7   LoadingSliceDate          192 non-null    object\n",
      " 8   SliceDate                 192 non-null    object\n",
      "dtypes: object(9)\n",
      "memory usage: 13.6+ KB\n",
      "None\n",
      "\n",
      "Statistiche descrittive:\n",
      "                                  PK DataDiRiferimento Macrozona  \\\n",
      "count                            192               192       192   \n",
      "unique                           192                96         2   \n",
      "top     MjIvMTAvMjAyNCAxNjoxNXxTVUQ=  22/10/2024 16:15       SUD   \n",
      "freq                               1                 2        96   \n",
      "\n",
      "       SbilAggregatoZonale[MWh] SegnoAggregatoZonale     Scambi[MWh]  \\\n",
      "count                       192                  192             192   \n",
      "unique                      192                    2             192   \n",
      "top             -164.2300000000                    -  486.0140000000   \n",
      "freq                          1                   96               1   \n",
      "\n",
      "           Estero[MWh] LoadingSliceDate SliceDate  \n",
      "count              192              192       192  \n",
      "unique             192                1         1  \n",
      "top     135.5750000000         20250203  20250203  \n",
      "freq                 1              192       192  \n"
     ]
    }
   ],
   "source": [
    "import pandas as pd\n",
    "\n",
    "file_path = f\"{PATH}/data.parquet\"\n",
    "\n",
    "df = pd.read_parquet(file_path)\n",
    "\n",
    "print(\"Prime righe del DataFrame:\")\n",
    "print(df.head())\n",
    "\n",
    "print(\"\\nInformazioni sul DataFrame:\")\n",
    "print(df.info())\n",
    "\n",
    "print(\"\\nStatistiche descrittive:\")\n",
    "print(df.describe())\n",
    "\n",
    "df.to_csv(f\"{PATH}/all_data.csv\", index=False)\n",
    "df.describe().to_csv(f\"{PATH}/stats.csv\")"
   ]
  },
  {
   "cell_type": "code",
   "execution_count": null,
   "id": "06b9e2f8-91a3-4081-8ede-cb957bd25e94",
   "metadata": {},
   "outputs": [],
   "source": []
  }
 ],
 "metadata": {
  "kernelspec": {
   "display_name": "Python 3 (ipykernel)",
   "language": "python",
   "name": "python3"
  },
  "language_info": {
   "codemirror_mode": {
    "name": "ipython",
    "version": 3
   },
   "file_extension": ".py",
   "mimetype": "text/x-python",
   "name": "python",
   "nbconvert_exporter": "python",
   "pygments_lexer": "ipython3",
   "version": "3.11.6"
  }
 },
 "nbformat": 4,
 "nbformat_minor": 5
}
